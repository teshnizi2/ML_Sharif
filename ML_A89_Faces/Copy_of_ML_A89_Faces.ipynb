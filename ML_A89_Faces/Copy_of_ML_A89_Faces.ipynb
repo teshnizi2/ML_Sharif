{
  "cells": [
    {
      "cell_type": "markdown",
      "metadata": {
        "id": "b07eb33c"
      },
      "source": [
        "<div>\n",
        "<img src='https://upload.wikimedia.org/wikipedia/commons/6/64/Sharif_University_Logo.jpg' alt=\"SUT logo\" width=220 height=220 align=left class=\"saturate\">\n",
        "\n",
        "<br>\n",
        "<font face=\"Times New Roman\">\n",
        "<div dir=ltr align=center>\n",
        "<!-- <font color=0F5298 size=7> -->\n",
        "<font color=0F5298 size=6>\n",
        "    Introduction to Machine Learning <br> <br>\n",
        "<!-- <font color=2565AE size=5> -->\n",
        "<font size=5>\n",
        "    Computer Engineering Department <br>\n",
        "    Spring 2023 <br> <br>\n",
        "<font color=606060 size=5>\n",
        "    Homeworks 8 & 9 (Combined): Practical - Faces <br> <br>\n",
        "<font color=686880 size=4>\n",
        "    TAs: Arman Malekzadeh - Amirhossein Ramazani Bonab - Yalda Shabanzadeh\n",
        "    \n",
        "____"
      ]
    },
    {
      "cell_type": "markdown",
      "metadata": {
        "id": "f5a79508"
      },
      "source": [
        "### Full Name : Mohammadreza Ahmadi Teshnizi\n",
        "### Student Number : 98170646\n",
        "### Colab Link: https://colab.research.google.com/drive/1dXaHIa3q2BVYPB0ayHe9mFru5yrDM9bu?usp=sharing\n",
        "___"
      ]
    },
    {
      "cell_type": "markdown",
      "metadata": {
        "id": "QCHy_MoXZJXG"
      },
      "source": [
        "In this assignment, you'll be dealing with a dataset consisting of 400 faces, belonging to 40 people. Your main task is to train models capable of recognizing those faces.\n",
        "The faces are `jpg` images packed together as a zip file called `images.zip`, and the `meta.csv` determines from which person each image was taken."
      ]
    },
    {
      "cell_type": "code",
      "execution_count": 187,
      "metadata": {
        "colab": {
          "base_uri": "https://localhost:8080/"
        },
        "id": "aZE1y9wJY1Ex",
        "outputId": "d91453de-27e0-4a7d-a8d6-efaf9003b187"
      },
      "outputs": [
        {
          "output_type": "stream",
          "name": "stdout",
          "text": [
            "--2023-06-27 19:55:20--  https://www.dropbox.com/s/wrias0bjyte3rr2/images.zip?dl=1\n",
            "Resolving www.dropbox.com (www.dropbox.com)... 162.125.6.18, 2620:100:6019:18::a27d:412\n",
            "Connecting to www.dropbox.com (www.dropbox.com)|162.125.6.18|:443... connected.\n",
            "HTTP request sent, awaiting response... 302 Found\n",
            "Location: /s/dl/wrias0bjyte3rr2/images.zip [following]\n",
            "--2023-06-27 19:55:20--  https://www.dropbox.com/s/dl/wrias0bjyte3rr2/images.zip\n",
            "Reusing existing connection to www.dropbox.com:443.\n",
            "HTTP request sent, awaiting response... 302 Found\n",
            "Location: https://uc251f45a8576a6ddeba53b5cfe7.dl.dropboxusercontent.com/cd/0/get/B-zmJDg-9CGyssn96iZd4Hb3ysX0hB6o_9OVKTHG17WyhoNmy2WviECkQhY7H2YFA0_A-PYNxsXxXsAs6X1c-P-URPBq8OlcB20q5UzWLnp-NU8ZptvMrSBqQEa4w49d31dPt8bPkB0GP80afgx-aCSQMhIK5FNCD-156REsW8KHISaF7VuaoCNh_98UxZJQpKE/file?dl=1# [following]\n",
            "--2023-06-27 19:55:20--  https://uc251f45a8576a6ddeba53b5cfe7.dl.dropboxusercontent.com/cd/0/get/B-zmJDg-9CGyssn96iZd4Hb3ysX0hB6o_9OVKTHG17WyhoNmy2WviECkQhY7H2YFA0_A-PYNxsXxXsAs6X1c-P-URPBq8OlcB20q5UzWLnp-NU8ZptvMrSBqQEa4w49d31dPt8bPkB0GP80afgx-aCSQMhIK5FNCD-156REsW8KHISaF7VuaoCNh_98UxZJQpKE/file?dl=1\n",
            "Resolving uc251f45a8576a6ddeba53b5cfe7.dl.dropboxusercontent.com (uc251f45a8576a6ddeba53b5cfe7.dl.dropboxusercontent.com)... 162.125.4.15, 2620:100:6019:15::a27d:40f\n",
            "Connecting to uc251f45a8576a6ddeba53b5cfe7.dl.dropboxusercontent.com (uc251f45a8576a6ddeba53b5cfe7.dl.dropboxusercontent.com)|162.125.4.15|:443... connected.\n",
            "HTTP request sent, awaiting response... 200 OK\n",
            "Length: 506158 (494K) [application/binary]\n",
            "Saving to: ‘images.zip’\n",
            "\n",
            "images.zip          100%[===================>] 494.29K  --.-KB/s    in 0.03s   \n",
            "\n",
            "2023-06-27 19:55:21 (15.7 MB/s) - ‘images.zip’ saved [506158/506158]\n",
            "\n",
            "--2023-06-27 19:55:21--  https://www.dropbox.com/s/vqt1v8sfmz18rcf/faces-metadata.csv?dl=1\n",
            "Resolving www.dropbox.com (www.dropbox.com)... 162.125.6.18, 2620:100:6019:18::a27d:412\n",
            "Connecting to www.dropbox.com (www.dropbox.com)|162.125.6.18|:443... connected.\n",
            "HTTP request sent, awaiting response... 302 Found\n",
            "Location: /s/dl/vqt1v8sfmz18rcf/faces-metadata.csv [following]\n",
            "--2023-06-27 19:55:21--  https://www.dropbox.com/s/dl/vqt1v8sfmz18rcf/faces-metadata.csv\n",
            "Reusing existing connection to www.dropbox.com:443.\n",
            "HTTP request sent, awaiting response... 302 Found\n",
            "Location: https://ucee72ae2f6e133fb850cd2fbb2d.dl.dropboxusercontent.com/cd/0/get/B-xKMyjeGvHsnrGhUch1DTVv970C8PJ9Lx8gZ64sxy4c2vF-WOe0EwgIjpuaXqBb2n3cJWew5S-WbqMzi51ck4f75zf2AUfE5h6_LHSIPkk6Op2Sqh2JbmzM2_hzC6lyxj53tOsyqVjm08H4_M3Q2s6p11buohTHLQIpGg_M_RDbpK_2pteOh8MH6_HEktXrb34/file?dl=1# [following]\n",
            "--2023-06-27 19:55:21--  https://ucee72ae2f6e133fb850cd2fbb2d.dl.dropboxusercontent.com/cd/0/get/B-xKMyjeGvHsnrGhUch1DTVv970C8PJ9Lx8gZ64sxy4c2vF-WOe0EwgIjpuaXqBb2n3cJWew5S-WbqMzi51ck4f75zf2AUfE5h6_LHSIPkk6Op2Sqh2JbmzM2_hzC6lyxj53tOsyqVjm08H4_M3Q2s6p11buohTHLQIpGg_M_RDbpK_2pteOh8MH6_HEktXrb34/file?dl=1\n",
            "Resolving ucee72ae2f6e133fb850cd2fbb2d.dl.dropboxusercontent.com (ucee72ae2f6e133fb850cd2fbb2d.dl.dropboxusercontent.com)... 162.125.66.15, 2620:100:6019:15::a27d:40f\n",
            "Connecting to ucee72ae2f6e133fb850cd2fbb2d.dl.dropboxusercontent.com (ucee72ae2f6e133fb850cd2fbb2d.dl.dropboxusercontent.com)|162.125.66.15|:443... connected.\n",
            "HTTP request sent, awaiting response... 200 OK\n",
            "Length: 5891 (5.8K) [application/binary]\n",
            "Saving to: ‘meta.csv’\n",
            "\n",
            "meta.csv            100%[===================>]   5.75K  --.-KB/s    in 0s      \n",
            "\n",
            "2023-06-27 19:55:22 (637 MB/s) - ‘meta.csv’ saved [5891/5891]\n",
            "\n"
          ]
        }
      ],
      "source": [
        "!wget -O images.zip https://www.dropbox.com/s/wrias0bjyte3rr2/images.zip?dl=1\n",
        "!wget -O meta.csv https://www.dropbox.com/s/vqt1v8sfmz18rcf/faces-metadata.csv?dl=1"
      ]
    },
    {
      "cell_type": "code",
      "execution_count": 188,
      "metadata": {
        "id": "6_7895lFnun2"
      },
      "outputs": [],
      "source": [
        "# you can use the following packages\n",
        "from PIL import Image\n",
        "import numpy as np\n",
        "import pandas as pd\n",
        "from sklearn.preprocessing import LabelEncoder\n",
        "from sklearn.model_selection import train_test_split\n",
        "import tensorflow as tf\n",
        "from tensorflow import keras\n",
        "from tensorflow.keras import layers\n",
        "from sklearn.cluster import KMeans\n",
        "from sklearn.decomposition import TruncatedSVD\n",
        "import plotly.express as px\n",
        "import zipfile\n",
        "import os"
      ]
    },
    {
      "cell_type": "markdown",
      "metadata": {
        "id": "rOuCpoXVxYAc"
      },
      "source": [
        "# Sec 1: Data Preparation"
      ]
    },
    {
      "cell_type": "markdown",
      "metadata": {
        "id": "D67J4M0lnD62"
      },
      "source": [
        "Load all images as a numpy array (called `x`) and the metadata as a dataframe **(P1-1: 25 points)**"
      ]
    },
    {
      "cell_type": "code",
      "execution_count": 189,
      "metadata": {
        "id": "J1a0H7bPQRZA"
      },
      "outputs": [],
      "source": [
        "with zipfile.ZipFile('images.zip', 'r') as zip_ref:\n",
        "    zip_ref.extractall('images')\n",
        "\n",
        "metadata = pd.read_csv('meta.csv')\n",
        "\n",
        "image_files = os.listdir('images/content/img-data')\n",
        "\n",
        "x = []\n",
        "for file in metadata[\"path\"]:\n",
        "    image_path = f\"images/content/img-data/{file}\"\n",
        "    image = Image.open(image_path)\n",
        "    image = np.array(image)\n",
        "    x.append(image)\n",
        "\n",
        "x = np.array(x)"
      ]
    },
    {
      "cell_type": "code",
      "execution_count": 190,
      "metadata": {
        "colab": {
          "base_uri": "https://localhost:8080/"
        },
        "id": "YCMMDkHPuFnI",
        "outputId": "365f73ed-c62e-440a-dc51-08af7c1db927"
      },
      "outputs": [
        {
          "output_type": "execute_result",
          "data": {
            "text/plain": [
              "array([[[ 82,  96, 108, ...,  97,  87,  81],\n",
              "        [ 86, 100, 112, ...,  96,  84,  76],\n",
              "        [ 88, 101, 116, ...,  97,  81,  74],\n",
              "        ...,\n",
              "        [ 51,  49,  54, ...,  42,  41,  42],\n",
              "        [ 52,  50,  55, ...,  40,  39,  40],\n",
              "        [ 53,  51,  54, ...,  38,  37,  37]],\n",
              "\n",
              "       [[113, 121, 133, ...,  49,  52,  44],\n",
              "        [119, 123, 132, ...,  51,  55,  49],\n",
              "        [127, 128, 135, ...,  50,  54,  52],\n",
              "        ...,\n",
              "        [197, 198, 199, ...,  37,  37,  37],\n",
              "        [196, 198, 200, ...,  33,  33,  33],\n",
              "        [197, 199, 202, ...,  38,  38,  38]],\n",
              "\n",
              "       [[ 80, 105, 125, ..., 108,  92,  79],\n",
              "        [ 75,  98, 123, ..., 107,  91,  79],\n",
              "        [ 66,  88, 121, ..., 105,  90,  79],\n",
              "        ...,\n",
              "        [ 34,  18,  26, ...,  35,  35,  38],\n",
              "        [ 32,  17,  25, ...,  35,  36,  38],\n",
              "        [ 32,  17,  24, ...,  36,  36,  39]],\n",
              "\n",
              "       ...,\n",
              "\n",
              "       [[124, 138, 154, ...,  80,  57,  55],\n",
              "        [122, 137, 156, ...,  76,  52,  48],\n",
              "        [121, 137, 156, ...,  71,  50,  44],\n",
              "        ...,\n",
              "        [  6, 110, 141, ...,  43,  44,  44],\n",
              "        [ 47, 128, 135, ...,  43,  44,  44],\n",
              "        [108, 147, 123, ...,  43,  44,  44]],\n",
              "\n",
              "       [[ 52,  62,  53, ..., 182, 178, 179],\n",
              "        [ 51,  58,  52, ..., 180, 177, 178],\n",
              "        [ 52,  54,  51, ..., 178, 176, 177],\n",
              "        ...,\n",
              "        [ 68,  68,  68, ..., 137, 149, 153],\n",
              "        [ 68,  68,  68, ..., 144, 151, 153],\n",
              "        [ 68,  68,  68, ..., 145, 148, 150]],\n",
              "\n",
              "       [[126, 124,  68, ..., 141, 142, 151],\n",
              "        [131, 125,  69, ..., 144, 143, 148],\n",
              "        [129, 122,  74, ..., 149, 144, 144],\n",
              "        ...,\n",
              "        [100, 100, 101, ...,  88,  93,  98],\n",
              "        [ 99, 100, 100, ...,  87,  92,  97],\n",
              "        [ 99, 100, 100, ...,  86,  91,  99]]], dtype=uint8)"
            ]
          },
          "metadata": {},
          "execution_count": 190
        }
      ],
      "source": [
        "x"
      ]
    },
    {
      "cell_type": "code",
      "execution_count": 191,
      "metadata": {
        "colab": {
          "base_uri": "https://localhost:8080/",
          "height": 423
        },
        "id": "qLebIshFuG95",
        "outputId": "8c6b96c7-ea7b-4b18-fdcb-a58168bfee5a"
      },
      "outputs": [
        {
          "output_type": "execute_result",
          "data": {
            "text/plain": [
              "        path  label\n",
              "0      0.jpg  jones\n",
              "1      1.jpg  jones\n",
              "2      2.jpg  jones\n",
              "3      3.jpg  jones\n",
              "4      4.jpg  jones\n",
              "..       ...    ...\n",
              "395  395.jpg   vaux\n",
              "396  396.jpg   vaux\n",
              "397  397.jpg   vaux\n",
              "398  398.jpg   vaux\n",
              "399  399.jpg   vaux\n",
              "\n",
              "[400 rows x 2 columns]"
            ],
            "text/html": [
              "\n",
              "  <div id=\"df-8ee370d6-dc57-4802-8d44-5ebe4caf4694\">\n",
              "    <div class=\"colab-df-container\">\n",
              "      <div>\n",
              "<style scoped>\n",
              "    .dataframe tbody tr th:only-of-type {\n",
              "        vertical-align: middle;\n",
              "    }\n",
              "\n",
              "    .dataframe tbody tr th {\n",
              "        vertical-align: top;\n",
              "    }\n",
              "\n",
              "    .dataframe thead th {\n",
              "        text-align: right;\n",
              "    }\n",
              "</style>\n",
              "<table border=\"1\" class=\"dataframe\">\n",
              "  <thead>\n",
              "    <tr style=\"text-align: right;\">\n",
              "      <th></th>\n",
              "      <th>path</th>\n",
              "      <th>label</th>\n",
              "    </tr>\n",
              "  </thead>\n",
              "  <tbody>\n",
              "    <tr>\n",
              "      <th>0</th>\n",
              "      <td>0.jpg</td>\n",
              "      <td>jones</td>\n",
              "    </tr>\n",
              "    <tr>\n",
              "      <th>1</th>\n",
              "      <td>1.jpg</td>\n",
              "      <td>jones</td>\n",
              "    </tr>\n",
              "    <tr>\n",
              "      <th>2</th>\n",
              "      <td>2.jpg</td>\n",
              "      <td>jones</td>\n",
              "    </tr>\n",
              "    <tr>\n",
              "      <th>3</th>\n",
              "      <td>3.jpg</td>\n",
              "      <td>jones</td>\n",
              "    </tr>\n",
              "    <tr>\n",
              "      <th>4</th>\n",
              "      <td>4.jpg</td>\n",
              "      <td>jones</td>\n",
              "    </tr>\n",
              "    <tr>\n",
              "      <th>...</th>\n",
              "      <td>...</td>\n",
              "      <td>...</td>\n",
              "    </tr>\n",
              "    <tr>\n",
              "      <th>395</th>\n",
              "      <td>395.jpg</td>\n",
              "      <td>vaux</td>\n",
              "    </tr>\n",
              "    <tr>\n",
              "      <th>396</th>\n",
              "      <td>396.jpg</td>\n",
              "      <td>vaux</td>\n",
              "    </tr>\n",
              "    <tr>\n",
              "      <th>397</th>\n",
              "      <td>397.jpg</td>\n",
              "      <td>vaux</td>\n",
              "    </tr>\n",
              "    <tr>\n",
              "      <th>398</th>\n",
              "      <td>398.jpg</td>\n",
              "      <td>vaux</td>\n",
              "    </tr>\n",
              "    <tr>\n",
              "      <th>399</th>\n",
              "      <td>399.jpg</td>\n",
              "      <td>vaux</td>\n",
              "    </tr>\n",
              "  </tbody>\n",
              "</table>\n",
              "<p>400 rows × 2 columns</p>\n",
              "</div>\n",
              "      <button class=\"colab-df-convert\" onclick=\"convertToInteractive('df-8ee370d6-dc57-4802-8d44-5ebe4caf4694')\"\n",
              "              title=\"Convert this dataframe to an interactive table.\"\n",
              "              style=\"display:none;\">\n",
              "        \n",
              "  <svg xmlns=\"http://www.w3.org/2000/svg\" height=\"24px\"viewBox=\"0 0 24 24\"\n",
              "       width=\"24px\">\n",
              "    <path d=\"M0 0h24v24H0V0z\" fill=\"none\"/>\n",
              "    <path d=\"M18.56 5.44l.94 2.06.94-2.06 2.06-.94-2.06-.94-.94-2.06-.94 2.06-2.06.94zm-11 1L8.5 8.5l.94-2.06 2.06-.94-2.06-.94L8.5 2.5l-.94 2.06-2.06.94zm10 10l.94 2.06.94-2.06 2.06-.94-2.06-.94-.94-2.06-.94 2.06-2.06.94z\"/><path d=\"M17.41 7.96l-1.37-1.37c-.4-.4-.92-.59-1.43-.59-.52 0-1.04.2-1.43.59L10.3 9.45l-7.72 7.72c-.78.78-.78 2.05 0 2.83L4 21.41c.39.39.9.59 1.41.59.51 0 1.02-.2 1.41-.59l7.78-7.78 2.81-2.81c.8-.78.8-2.07 0-2.86zM5.41 20L4 18.59l7.72-7.72 1.47 1.35L5.41 20z\"/>\n",
              "  </svg>\n",
              "      </button>\n",
              "      \n",
              "  <style>\n",
              "    .colab-df-container {\n",
              "      display:flex;\n",
              "      flex-wrap:wrap;\n",
              "      gap: 12px;\n",
              "    }\n",
              "\n",
              "    .colab-df-convert {\n",
              "      background-color: #E8F0FE;\n",
              "      border: none;\n",
              "      border-radius: 50%;\n",
              "      cursor: pointer;\n",
              "      display: none;\n",
              "      fill: #1967D2;\n",
              "      height: 32px;\n",
              "      padding: 0 0 0 0;\n",
              "      width: 32px;\n",
              "    }\n",
              "\n",
              "    .colab-df-convert:hover {\n",
              "      background-color: #E2EBFA;\n",
              "      box-shadow: 0px 1px 2px rgba(60, 64, 67, 0.3), 0px 1px 3px 1px rgba(60, 64, 67, 0.15);\n",
              "      fill: #174EA6;\n",
              "    }\n",
              "\n",
              "    [theme=dark] .colab-df-convert {\n",
              "      background-color: #3B4455;\n",
              "      fill: #D2E3FC;\n",
              "    }\n",
              "\n",
              "    [theme=dark] .colab-df-convert:hover {\n",
              "      background-color: #434B5C;\n",
              "      box-shadow: 0px 1px 3px 1px rgba(0, 0, 0, 0.15);\n",
              "      filter: drop-shadow(0px 1px 2px rgba(0, 0, 0, 0.3));\n",
              "      fill: #FFFFFF;\n",
              "    }\n",
              "  </style>\n",
              "\n",
              "      <script>\n",
              "        const buttonEl =\n",
              "          document.querySelector('#df-8ee370d6-dc57-4802-8d44-5ebe4caf4694 button.colab-df-convert');\n",
              "        buttonEl.style.display =\n",
              "          google.colab.kernel.accessAllowed ? 'block' : 'none';\n",
              "\n",
              "        async function convertToInteractive(key) {\n",
              "          const element = document.querySelector('#df-8ee370d6-dc57-4802-8d44-5ebe4caf4694');\n",
              "          const dataTable =\n",
              "            await google.colab.kernel.invokeFunction('convertToInteractive',\n",
              "                                                     [key], {});\n",
              "          if (!dataTable) return;\n",
              "\n",
              "          const docLinkHtml = 'Like what you see? Visit the ' +\n",
              "            '<a target=\"_blank\" href=https://colab.research.google.com/notebooks/data_table.ipynb>data table notebook</a>'\n",
              "            + ' to learn more about interactive tables.';\n",
              "          element.innerHTML = '';\n",
              "          dataTable['output_type'] = 'display_data';\n",
              "          await google.colab.output.renderOutput(dataTable, element);\n",
              "          const docLink = document.createElement('div');\n",
              "          docLink.innerHTML = docLinkHtml;\n",
              "          element.appendChild(docLink);\n",
              "        }\n",
              "      </script>\n",
              "    </div>\n",
              "  </div>\n",
              "  "
            ]
          },
          "metadata": {},
          "execution_count": 191
        }
      ],
      "source": [
        "metadata"
      ]
    },
    {
      "cell_type": "markdown",
      "metadata": {
        "id": "Bllz0xnSn6Gv"
      },
      "source": [
        "Flatten and normalize the images **(P1-2: 10 points)**\n",
        "\n",
        "Note: For this part, normalization only means dividing by 255."
      ]
    },
    {
      "cell_type": "code",
      "execution_count": 192,
      "metadata": {
        "id": "mcAT92tIvMk_"
      },
      "outputs": [],
      "source": [
        "x_flat = x.reshape(x.shape[0], -1)\n",
        "x_normalized = x_flat / 255.0\n",
        "x = x_normalized"
      ]
    },
    {
      "cell_type": "code",
      "execution_count": 193,
      "metadata": {
        "colab": {
          "base_uri": "https://localhost:8080/"
        },
        "id": "_mp41EBIvp5Q",
        "outputId": "b6bbb043-2acb-4d8d-c7c5-ac8c3071a9df"
      },
      "outputs": [
        {
          "output_type": "execute_result",
          "data": {
            "text/plain": [
              "array([[0.32156863, 0.37647059, 0.42352941, ..., 0.14901961, 0.14509804,\n",
              "        0.14509804],\n",
              "       [0.44313725, 0.4745098 , 0.52156863, ..., 0.14901961, 0.14901961,\n",
              "        0.14901961],\n",
              "       [0.31372549, 0.41176471, 0.49019608, ..., 0.14117647, 0.14117647,\n",
              "        0.15294118],\n",
              "       ...,\n",
              "       [0.48627451, 0.54117647, 0.60392157, ..., 0.16862745, 0.17254902,\n",
              "        0.17254902],\n",
              "       [0.20392157, 0.24313725, 0.20784314, ..., 0.56862745, 0.58039216,\n",
              "        0.58823529],\n",
              "       [0.49411765, 0.48627451, 0.26666667, ..., 0.3372549 , 0.35686275,\n",
              "        0.38823529]])"
            ]
          },
          "metadata": {},
          "execution_count": 193
        }
      ],
      "source": [
        "x_normalized"
      ]
    },
    {
      "cell_type": "markdown",
      "metadata": {
        "id": "ZyXQqbNLuAJg"
      },
      "source": [
        "Encode the labels using `LabelEncoder` and save the result as a numpy array called `y` **(P1-3: 5 points)**"
      ]
    },
    {
      "cell_type": "code",
      "execution_count": 194,
      "metadata": {
        "id": "rz1_cg3ipHLE"
      },
      "outputs": [],
      "source": [
        "label_encoder = LabelEncoder()\n",
        "y = label_encoder.fit_transform(metadata['label'])\n",
        "y = np.array(y)"
      ]
    },
    {
      "cell_type": "code",
      "execution_count": 195,
      "metadata": {
        "colab": {
          "base_uri": "https://localhost:8080/"
        },
        "id": "jKdcw4Htv78h",
        "outputId": "0415468e-ea5d-44ae-e0e2-00faf4e9a422"
      },
      "outputs": [
        {
          "output_type": "execute_result",
          "data": {
            "text/plain": [
              "array([17, 17, 17, 17, 17, 17, 17, 17, 17, 17, 33, 33, 33, 33, 33, 33, 33,\n",
              "       33, 33, 33,  2,  2,  2,  2,  2,  2,  2,  2,  2,  2, 37, 37, 37, 37,\n",
              "       37, 37, 37, 37, 37, 37, 36, 36, 36, 36, 36, 36, 36, 36, 36, 36, 11,\n",
              "       11, 11, 11, 11, 11, 11, 11, 11, 11,  5,  5,  5,  5,  5,  5,  5,  5,\n",
              "        5,  5, 38, 38, 38, 38, 38, 38, 38, 38, 38, 38, 18, 18, 18, 18, 18,\n",
              "       18, 18, 18, 18, 18,  1,  1,  1,  1,  1,  1,  1,  1,  1,  1, 19, 19,\n",
              "       19, 19, 19, 19, 19, 19, 19, 19,  9,  9,  9,  9,  9,  9,  9,  9,  9,\n",
              "        9, 32, 32, 32, 32, 32, 32, 32, 32, 32, 32, 10, 10, 10, 10, 10, 10,\n",
              "       10, 10, 10, 10, 29, 29, 29, 29, 29, 29, 29, 29, 29, 29,  6,  6,  6,\n",
              "        6,  6,  6,  6,  6,  6,  6, 30, 30, 30, 30, 30, 30, 30, 30, 30, 30,\n",
              "        3,  3,  3,  3,  3,  3,  3,  3,  3,  3,  4,  4,  4,  4,  4,  4,  4,\n",
              "        4,  4,  4, 35, 35, 35, 35, 35, 35, 35, 35, 35, 35, 28, 28, 28, 28,\n",
              "       28, 28, 28, 28, 28, 28, 31, 31, 31, 31, 31, 31, 31, 31, 31, 31, 24,\n",
              "       24, 24, 24, 24, 24, 24, 24, 24, 24,  0,  0,  0,  0,  0,  0,  0,  0,\n",
              "        0,  0, 15, 15, 15, 15, 15, 15, 15, 15, 15, 15, 22, 22, 22, 22, 22,\n",
              "       22, 22, 22, 22, 22,  8,  8,  8,  8,  8,  8,  8,  8,  8,  8, 23, 23,\n",
              "       23, 23, 23, 23, 23, 23, 23, 23, 16, 16, 16, 16, 16, 16, 16, 16, 16,\n",
              "       16, 30, 30, 30, 30, 30, 30, 30, 30, 30, 30, 25, 25, 25, 25, 25, 25,\n",
              "       25, 25, 25, 25, 26, 26, 26, 26, 26, 26, 26, 26, 26, 26, 13, 13, 13,\n",
              "       13, 13, 13, 13, 13, 13, 13, 14, 14, 14, 14, 14, 14, 14, 14, 14, 14,\n",
              "       12, 12, 12, 12, 12, 12, 12, 12, 12, 12, 20, 20, 20, 20, 20, 20, 20,\n",
              "       20, 20, 20, 21, 21, 21, 21, 21, 21, 21, 21, 21, 21,  7,  7,  7,  7,\n",
              "        7,  7,  7,  7,  7,  7, 27, 27, 27, 27, 27, 27, 27, 27, 27, 27, 34,\n",
              "       34, 34, 34, 34, 34, 34, 34, 34, 34])"
            ]
          },
          "metadata": {},
          "execution_count": 195
        }
      ],
      "source": [
        "y"
      ]
    },
    {
      "cell_type": "markdown",
      "metadata": {
        "id": "o4yGbT6HuDks"
      },
      "source": [
        "Split the data into training (80%), validation (10%), and testing (10%) parts. **(P1-4: 10 points)**\n",
        "\n",
        "Note: The split procedure should maintain the class balance. This is sometimes called \"[stratified sampling](https://en.wikipedia.org/wiki/Stratified_sampling)\"."
      ]
    },
    {
      "cell_type": "code",
      "execution_count": 196,
      "metadata": {
        "id": "MtOoeS0ewOye"
      },
      "outputs": [],
      "source": [
        "from sklearn.model_selection import train_test_split\n",
        "\n",
        "X_train_val, X_test, y_train_val, y_test = train_test_split(x, y, test_size=0.1, stratify=y, random_state=42)\n",
        "X_train, X_val, y_train, y_val = train_test_split(X_train_val, y_train_val, test_size=0.111, stratify=y_train_val, random_state=42)"
      ]
    },
    {
      "cell_type": "code",
      "execution_count": 197,
      "metadata": {
        "colab": {
          "base_uri": "https://localhost:8080/"
        },
        "id": "izAzuRehy8yT",
        "outputId": "c7bcadea-54a8-49cf-855e-9842b8e3e4ca"
      },
      "outputs": [
        {
          "output_type": "stream",
          "name": "stdout",
          "text": [
            "X_train shape: (320, 4096)\n",
            "y_train shape: (320,)\n",
            "X_val shape: (40, 4096)\n",
            "y_val shape: (40,)\n",
            "X_test shape: (40, 4096)\n",
            "y_test shape: (40,)\n",
            "Label distribution in y_train: {0: 8, 1: 8, 2: 8, 3: 8, 4: 8, 5: 8, 6: 8, 7: 8, 8: 8, 9: 8, 10: 8, 11: 8, 12: 8, 13: 8, 14: 8, 15: 8, 16: 8, 17: 8, 18: 8, 19: 8, 20: 8, 21: 8, 22: 8, 23: 8, 24: 8, 25: 8, 26: 8, 27: 8, 28: 8, 29: 8, 30: 16, 31: 8, 32: 8, 33: 8, 34: 8, 35: 8, 36: 8, 37: 8, 38: 8}\n",
            "Label distribution in y_val: {0: 1, 1: 1, 2: 1, 3: 1, 4: 1, 5: 1, 6: 1, 7: 1, 8: 1, 9: 1, 10: 1, 11: 1, 12: 1, 13: 1, 14: 1, 15: 1, 16: 1, 17: 1, 18: 1, 19: 1, 20: 1, 21: 1, 22: 1, 23: 1, 24: 1, 25: 1, 26: 1, 27: 1, 28: 1, 29: 1, 30: 2, 31: 1, 32: 1, 33: 1, 34: 1, 35: 1, 36: 1, 37: 1, 38: 1}\n",
            "Label distribution in y_test: {0: 1, 1: 1, 2: 1, 3: 1, 4: 1, 5: 1, 6: 1, 7: 1, 8: 1, 9: 1, 10: 1, 11: 1, 12: 1, 13: 1, 14: 1, 15: 1, 16: 1, 17: 1, 18: 1, 19: 1, 20: 1, 21: 1, 22: 1, 23: 1, 24: 1, 25: 1, 26: 1, 27: 1, 28: 1, 29: 1, 30: 2, 31: 1, 32: 1, 33: 1, 34: 1, 35: 1, 36: 1, 37: 1, 38: 1}\n",
            "Minimum value in X_train: 0.0\n",
            "Maximum value in X_train: 1.0\n"
          ]
        }
      ],
      "source": [
        "import numpy as np\n",
        "\n",
        "print(\"X_train shape:\", X_train.shape)\n",
        "print(\"y_train shape:\", y_train.shape)\n",
        "\n",
        "print(\"X_val shape:\", X_val.shape)\n",
        "print(\"y_val shape:\", y_val.shape)\n",
        "\n",
        "print(\"X_test shape:\", X_test.shape)\n",
        "print(\"y_test shape:\", y_test.shape)\n",
        "\n",
        "\n",
        "unique_labels, label_counts = np.unique(y_train, return_counts=True)\n",
        "print(\"Label distribution in y_train:\", dict(zip(unique_labels, label_counts)))\n",
        "\n",
        "unique_labels, label_counts = np.unique(y_val, return_counts=True)\n",
        "print(\"Label distribution in y_val:\", dict(zip(unique_labels, label_counts)))\n",
        "\n",
        "unique_labels, label_counts = np.unique(y_test, return_counts=True)\n",
        "print(\"Label distribution in y_test:\", dict(zip(unique_labels, label_counts)))\n",
        "\n",
        "\n",
        "print(\"Minimum value in X_train:\", np.min(X_train))\n",
        "print(\"Maximum value in X_train:\", np.max(X_train))\n"
      ]
    },
    {
      "cell_type": "markdown",
      "metadata": {
        "id": "G8YV5obFxgmr"
      },
      "source": [
        "# Sec 2: SVM"
      ]
    },
    {
      "cell_type": "markdown",
      "metadata": {
        "id": "ZhlriGrP1T9q"
      },
      "source": [
        "## Subsec 2.1."
      ]
    },
    {
      "cell_type": "markdown",
      "metadata": {
        "id": "5n0SLDtE0vih"
      },
      "source": [
        "Train a SVM using `sklearn`. Note that the hyperparameter tuning should be done using the \"validation\" set. **(P2-1-1: 20 points)**"
      ]
    },
    {
      "cell_type": "code",
      "execution_count": 198,
      "metadata": {
        "id": "LBA5UHB9_4Sr",
        "colab": {
          "base_uri": "https://localhost:8080/"
        },
        "outputId": "d57ddd70-c1b5-4744-d465-30ac5453e663"
      },
      "outputs": [
        {
          "output_type": "stream",
          "name": "stdout",
          "text": [
            "Accuracy on test set: 1.0\n"
          ]
        }
      ],
      "source": [
        "from sklearn.svm import SVC\n",
        "from sklearn.model_selection import GridSearchCV\n",
        "\n",
        "\n",
        "svm_model = SVC()\n",
        "\n",
        "param_grid = {\n",
        "    'C': [0.1, 1, 10],\n",
        "    'kernel': ['linear', 'rbf'],\n",
        "    'gamma': ['scale', 'auto']\n",
        "}\n",
        "\n",
        "grid_search = GridSearchCV(svm_model, param_grid, cv=5)\n",
        "grid_search.fit(X_train, y_train)\n",
        "\n",
        "\n",
        "best_svm_model = grid_search.best_estimator_\n",
        "best_svm_model.fit(X_train, y_train)\n",
        "\n",
        "accuracy = best_svm_model.score(X_test, y_test)\n",
        "print(\"Accuracy on test set:\", accuracy)"
      ]
    },
    {
      "cell_type": "markdown",
      "metadata": {
        "id": "mP97Fgtq03I9"
      },
      "source": [
        "Report the accuracy and F1-score of the classifier on the testing set **(P2-1-2: 10 points)**"
      ]
    },
    {
      "cell_type": "code",
      "execution_count": 199,
      "metadata": {
        "colab": {
          "base_uri": "https://localhost:8080/"
        },
        "id": "9hAz00vB1S8O",
        "outputId": "ff9511dc-36ad-41a0-e480-83fe7c7061e1"
      },
      "outputs": [
        {
          "output_type": "stream",
          "name": "stdout",
          "text": [
            "Accuracy on test set: 1.0\n",
            "F1-score on test set: 1.0\n"
          ]
        }
      ],
      "source": [
        "from sklearn.metrics import accuracy_score, f1_score\n",
        "\n",
        "y_pred = best_svm_model.predict(X_test)\n",
        "\n",
        "accuracy = accuracy_score(y_test, y_pred)\n",
        "print(\"Accuracy on test set:\", accuracy)\n",
        "\n",
        "f1 = f1_score(y_test, y_pred, average='weighted')\n",
        "print(\"F1-score on test set:\", f1)\n"
      ]
    },
    {
      "cell_type": "markdown",
      "metadata": {
        "id": "JsaU0aq71ctB"
      },
      "source": [
        "## Subsec 2.2."
      ]
    },
    {
      "cell_type": "markdown",
      "metadata": {
        "id": "N-xU9teJ1gwq"
      },
      "source": [
        "Train a SVM from scratch using the following class **(P2-2-1: 40 points)**\n",
        "\n",
        "Note: For this part, you are not required to use the validation set for hyperparameter tuning. However, you might get better results if you do that."
      ]
    },
    {
      "cell_type": "code",
      "execution_count": 200,
      "metadata": {
        "colab": {
          "base_uri": "https://localhost:8080/"
        },
        "id": "1wTPZvgR5QmX",
        "outputId": "fb9a8934-19b7-48a6-dddb-4f1783a99001"
      },
      "outputs": [
        {
          "output_type": "stream",
          "name": "stdout",
          "text": [
            "Requirement already satisfied: cvxopt in /usr/local/lib/python3.10/dist-packages (1.3.1)\n"
          ]
        }
      ],
      "source": [
        "!pip install cvxopt"
      ]
    },
    {
      "cell_type": "code",
      "source": [
        "from cvxopt import matrix, solvers\n",
        "\n",
        "class SVM:\n",
        "    def __init__(self):\n",
        "        self.W = None\n",
        "        self.b = None\n",
        "\n",
        "    def fit(self, X, y):\n",
        "        y = np.where(y == 0, -1, 1)\n",
        "        n_samples, n_features = X.shape\n",
        "\n",
        "        P = matrix(np.outer(y, y) * np.dot(X, X.T))\n",
        "        q = matrix(-np.ones(n_samples))\n",
        "        G = matrix(-np.eye(n_samples))\n",
        "        h = matrix(np.zeros(n_samples))\n",
        "        A = matrix(y, (1, n_samples), tc='d')\n",
        "        b = matrix(0.0)\n",
        "\n",
        "        solvers.options['show_progress'] = False\n",
        "        solution = solvers.qp(P, q, G, h, A, b)\n",
        "\n",
        "        alpha = np.array(solution['x']).reshape(n_samples)\n",
        "\n",
        "        sv_indices = alpha > 1e-5\n",
        "        self.support_vectors = X[sv_indices]\n",
        "        self.support_labels = y[sv_indices]\n",
        "        self.support_alpha = alpha[sv_indices]\n",
        "\n",
        "        self.W = np.dot(self.support_alpha * self.support_labels, self.support_vectors)\n",
        "        self.b = np.mean(self.support_labels - np.dot(self.W, self.support_vectors.T))\n",
        "\n",
        "        return self\n",
        "\n",
        "    def transform(self, X):\n",
        "        if self.W is None or self.b is None:\n",
        "            raise ValueError(\"SVM not trained yet.\")\n",
        "\n",
        "        y_pred = np.sign(np.dot(X, self.W) + self.b)\n",
        "        y_pred = np.where(y_pred == -1, 0, 1)\n",
        "\n",
        "        return y_pred\n"
      ],
      "metadata": {
        "id": "F2vqqpk2CZyv"
      },
      "execution_count": 201,
      "outputs": []
    },
    {
      "cell_type": "code",
      "execution_count": 202,
      "metadata": {
        "id": "IWRhNGEW147k"
      },
      "outputs": [],
      "source": [
        "svm = SVM()\n",
        "svm.fit(X_train, y_train)\n",
        "y_pred = svm.transform(X_test)"
      ]
    },
    {
      "cell_type": "markdown",
      "metadata": {
        "id": "j193U_4l2d6_"
      },
      "source": [
        "Report the accuracy and F1-score of the classifier on the testing set **(P2-2-2: 10 points)**"
      ]
    },
    {
      "cell_type": "code",
      "execution_count": 203,
      "metadata": {
        "id": "gC9xLewr2euh",
        "colab": {
          "base_uri": "https://localhost:8080/"
        },
        "outputId": "b3589428-30fd-40c5-eadb-205a5994aae7"
      },
      "outputs": [
        {
          "output_type": "stream",
          "name": "stdout",
          "text": [
            "Accuracy: 0.05\n",
            "F1-score: 0.026250000000000002\n"
          ]
        }
      ],
      "source": [
        "from sklearn.metrics import accuracy_score, f1_score\n",
        "\n",
        "accuracy = accuracy_score(y_test, y_pred)\n",
        "print(\"Accuracy:\", accuracy)\n",
        "\n",
        "f1 = f1_score(y_test, y_pred, average='weighted')\n",
        "print(\"F1-score:\", f1)"
      ]
    },
    {
      "cell_type": "markdown",
      "source": [
        "نمی‌دونم چشه که به مشکل میخوره هی ولی فکر کنم دارم ایکس‌های اشتباهی رو به برچسب ها میدم ولی حل نشد آخرش مشکلم هرچی سعی کردم."
      ],
      "metadata": {
        "id": "5yD2rwbLcztj"
      }
    },
    {
      "cell_type": "markdown",
      "metadata": {
        "id": "rRmd_iUI1mn-"
      },
      "source": [
        "# Sec 3: PCA"
      ]
    },
    {
      "cell_type": "markdown",
      "metadata": {
        "id": "rjYFWT1-2jNg"
      },
      "source": [
        "Fetch all images taken from `jones`, `taylor`, `anderson` and `wilson` (use the `labelencoder` object). Perform PCA from scratch using the following `class` to reduce the dimension of those images to 3. Save the results as a `numpy` array of shape `(40, 3)`. **(P3-1: 30 points)**"
      ]
    },
    {
      "cell_type": "code",
      "source": [
        "encoded_labels = label_encoder.transform(metadata['label'])\n",
        "\n",
        "target_labels = ['jones', 'taylor', 'anderson', 'wilson']\n",
        "\n",
        "target_images = x_normalized[np.isin(encoded_labels, label_encoder.transform(target_labels))]\n",
        "\n",
        "print(\"Shape of target images:\", target_images.shape)\n"
      ],
      "metadata": {
        "colab": {
          "base_uri": "https://localhost:8080/"
        },
        "id": "3hwox87hIUYo",
        "outputId": "910b7a7d-9b89-44e4-fd09-1ef8651b494d"
      },
      "execution_count": 204,
      "outputs": [
        {
          "output_type": "stream",
          "name": "stdout",
          "text": [
            "Shape of target images: (40, 4096)\n"
          ]
        }
      ]
    },
    {
      "cell_type": "code",
      "execution_count": 205,
      "metadata": {
        "id": "nz8BZ31S2h7d"
      },
      "outputs": [],
      "source": [
        "class PCA:\n",
        "    def __init__(self, n_components):\n",
        "        self.n_components = n_components\n",
        "        self.components_ = None\n",
        "\n",
        "    def fit(self, X):\n",
        "        self.components_ = None\n",
        "        mean = np.mean(X, axis=0)\n",
        "        centered_X = X - mean\n",
        "        cov_matrix = np.cov(centered_X.T)\n",
        "        eigenvalues, eigenvectors = np.linalg.eig(cov_matrix)\n",
        "\n",
        "        sorted_indices = np.argsort(eigenvalues)[::-1]\n",
        "        sorted_eigenvalues = eigenvalues[sorted_indices]\n",
        "        sorted_eigenvectors = eigenvectors[:, sorted_indices]\n",
        "\n",
        "        self.components_ = sorted_eigenvectors[:, :self.n_components]\n",
        "\n",
        "        return self\n",
        "\n",
        "    def transform(self, X):\n",
        "        assert self.components_ is not None\n",
        "\n",
        "        transformed_X = np.dot(X, self.components_)\n",
        "\n",
        "        return transformed_X\n"
      ]
    },
    {
      "cell_type": "code",
      "source": [
        "pca = PCA(n_components=3)\n",
        "\n",
        "pca.fit(target_images)\n",
        "reduced_images = pca.transform(target_images)\n",
        "\n",
        "print(\"Shape of reduced images:\", reduced_images.shape)\n"
      ],
      "metadata": {
        "colab": {
          "base_uri": "https://localhost:8080/"
        },
        "id": "ozL1XxiuIa2v",
        "outputId": "681a1ef0-27ce-404b-a789-ffc71362479e"
      },
      "execution_count": 206,
      "outputs": [
        {
          "output_type": "stream",
          "name": "stdout",
          "text": [
            "Shape of reduced images: (40, 3)\n"
          ]
        }
      ]
    },
    {
      "cell_type": "markdown",
      "metadata": {
        "id": "XpkXp5u83EPx"
      },
      "source": [
        "Use `plotly` to plot these 3D samples. You should use their labels as the determiner of their color. **(P3-2: 10 points)**"
      ]
    },
    {
      "cell_type": "code",
      "source": [
        "!pip install plotly"
      ],
      "metadata": {
        "colab": {
          "base_uri": "https://localhost:8080/"
        },
        "id": "cTJEcOPNKa9x",
        "outputId": "0840be6c-1f97-4b12-dd07-1ac6b9c78a9a"
      },
      "execution_count": 207,
      "outputs": [
        {
          "output_type": "stream",
          "name": "stdout",
          "text": [
            "Requirement already satisfied: plotly in /usr/local/lib/python3.10/dist-packages (5.13.1)\n",
            "Requirement already satisfied: tenacity>=6.2.0 in /usr/local/lib/python3.10/dist-packages (from plotly) (8.2.2)\n"
          ]
        }
      ]
    },
    {
      "cell_type": "code",
      "execution_count": 208,
      "metadata": {
        "id": "upHyFtFL2CBE",
        "colab": {
          "base_uri": "https://localhost:8080/",
          "height": 542
        },
        "outputId": "16459b52-1e68-44e8-9029-3fc1564acf18"
      },
      "outputs": [
        {
          "output_type": "display_data",
          "data": {
            "text/html": [
              "<html>\n",
              "<head><meta charset=\"utf-8\" /></head>\n",
              "<body>\n",
              "    <div>            <script src=\"https://cdnjs.cloudflare.com/ajax/libs/mathjax/2.7.5/MathJax.js?config=TeX-AMS-MML_SVG\"></script><script type=\"text/javascript\">if (window.MathJax && window.MathJax.Hub && window.MathJax.Hub.Config) {window.MathJax.Hub.Config({SVG: {font: \"STIX-Web\"}});}</script>                <script type=\"text/javascript\">window.PlotlyConfig = {MathJaxConfig: 'local'};</script>\n",
              "        <script src=\"https://cdn.plot.ly/plotly-2.18.2.min.js\"></script>                <div id=\"5f40d66f-69c7-4585-8b97-0da9faf010f2\" class=\"plotly-graph-div\" style=\"height:525px; width:100%;\"></div>            <script type=\"text/javascript\">                                    window.PLOTLYENV=window.PLOTLYENV || {};                                    if (document.getElementById(\"5f40d66f-69c7-4585-8b97-0da9faf010f2\")) {                    Plotly.newPlot(                        \"5f40d66f-69c7-4585-8b97-0da9faf010f2\",                        [{\"hovertemplate\":\"Label=jones<br>Component 1=%{x}<br>Component 2=%{y}<br>Component 3=%{z}<extra></extra>\",\"legendgroup\":\"jones\",\"marker\":{\"color\":\"#636efa\",\"symbol\":\"circle\"},\"mode\":\"markers\",\"name\":\"jones\",\"scene\":\"scene\",\"showlegend\":true,\"x\":[7.0251033738533515,-0.2851115291117151,6.260603788894403,17.010155956451506,4.6786781464645095,13.288027849525522,6.492814945609331,11.257555365213161,8.538510985607052,5.250090748817601],\"y\":[28.745965230716674,24.45972665949458,27.626700644785355,23.52878669523053,25.38472844426351,25.242001261412483,28.599803130009327,26.758165748705288,29.101491744963816,22.85732123112061],\"z\":[-12.088155239767854,-16.796876676715755,-13.08461923843772,-7.2518472055195184,-16.69886024936236,-8.49732308097213,-10.138915992196614,-12.053432077242459,-11.411443589207712,-17.113164541529187],\"type\":\"scatter3d\"},{\"hovertemplate\":\"Label=taylor<br>Component 1=%{x}<br>Component 2=%{y}<br>Component 3=%{z}<extra></extra>\",\"legendgroup\":\"taylor\",\"marker\":{\"color\":\"#EF553B\",\"symbol\":\"circle\"},\"mode\":\"markers\",\"name\":\"taylor\",\"scene\":\"scene\",\"showlegend\":true,\"x\":[3.6447101444886467,1.0812927513008201,2.0339034960072206,0.25194708398465676,2.0072467501810403,-0.06158154109006708,3.2481936899123696,1.9557099272522653,-0.7100684294113251,3.190928362532422],\"y\":[23.863239480631965,24.358441954244594,23.851766720088506,23.191413835217986,24.672141932984463,23.409550418601047,21.355172407220316,22.652808132349808,23.08788627372535,22.716351037114922],\"z\":[-6.70574536598704,-7.935163644199646,-8.45892229109095,-8.155987016313542,-7.347465795868137,-8.390950087756949,-7.447784877528678,-7.153720331134926,-8.232060643033911,-7.185158873731021],\"type\":\"scatter3d\"},{\"hovertemplate\":\"Label=anderson<br>Component 1=%{x}<br>Component 2=%{y}<br>Component 3=%{z}<extra></extra>\",\"legendgroup\":\"anderson\",\"marker\":{\"color\":\"#00cc96\",\"symbol\":\"circle\"},\"mode\":\"markers\",\"name\":\"anderson\",\"scene\":\"scene\",\"showlegend\":true,\"x\":[4.054168620903086,2.9568787805315164,2.7928493622778943,8.152561656405966,9.335621864968575,8.536983287165086,11.056872745643759,12.353575322228437,7.480750552757057,6.500891262789896],\"y\":[16.942694695499075,17.058088099768963,17.87970596269893,16.21859611348284,16.889373890804713,18.94158780079128,20.509767591815415,18.79247029138275,22.362439325511232,21.912953170582057],\"z\":[-13.774081066533245,-13.511585386323823,-13.5032109124404,-9.453726872593078,-8.911339118562324,-12.5408515836574,-12.99490507924678,-11.51017712394756,-14.803555103381596,-15.423941270863299],\"type\":\"scatter3d\"},{\"hovertemplate\":\"Label=wilson<br>Component 1=%{x}<br>Component 2=%{y}<br>Component 3=%{z}<extra></extra>\",\"legendgroup\":\"wilson\",\"marker\":{\"color\":\"#ab63fa\",\"symbol\":\"circle\"},\"mode\":\"markers\",\"name\":\"wilson\",\"scene\":\"scene\",\"showlegend\":true,\"x\":[5.856881068281063,2.6829310455600472,6.914804461928309,6.215376954449492,3.9323851542418953,12.170690186773813,7.676296559237062,6.655162890109498,2.861012740037312,1.7353796488101143],\"y\":[20.933771111671646,21.329522374772196,19.48235030318909,23.406184555066453,22.757542466733295,22.226386399611698,23.87661123518827,20.823264344761967,20.758971388843207,22.522042140629924],\"z\":[-9.278201969989063,-11.02779197955574,-8.635678167867438,-12.312036986685758,-13.664074576262623,-8.600889379603368,-11.66405668524142,-8.569500807523639,-8.875153063779074,-13.95039026550572],\"type\":\"scatter3d\"}],                        {\"template\":{\"data\":{\"histogram2dcontour\":[{\"type\":\"histogram2dcontour\",\"colorbar\":{\"outlinewidth\":0,\"ticks\":\"\"},\"colorscale\":[[0.0,\"#0d0887\"],[0.1111111111111111,\"#46039f\"],[0.2222222222222222,\"#7201a8\"],[0.3333333333333333,\"#9c179e\"],[0.4444444444444444,\"#bd3786\"],[0.5555555555555556,\"#d8576b\"],[0.6666666666666666,\"#ed7953\"],[0.7777777777777778,\"#fb9f3a\"],[0.8888888888888888,\"#fdca26\"],[1.0,\"#f0f921\"]]}],\"choropleth\":[{\"type\":\"choropleth\",\"colorbar\":{\"outlinewidth\":0,\"ticks\":\"\"}}],\"histogram2d\":[{\"type\":\"histogram2d\",\"colorbar\":{\"outlinewidth\":0,\"ticks\":\"\"},\"colorscale\":[[0.0,\"#0d0887\"],[0.1111111111111111,\"#46039f\"],[0.2222222222222222,\"#7201a8\"],[0.3333333333333333,\"#9c179e\"],[0.4444444444444444,\"#bd3786\"],[0.5555555555555556,\"#d8576b\"],[0.6666666666666666,\"#ed7953\"],[0.7777777777777778,\"#fb9f3a\"],[0.8888888888888888,\"#fdca26\"],[1.0,\"#f0f921\"]]}],\"heatmap\":[{\"type\":\"heatmap\",\"colorbar\":{\"outlinewidth\":0,\"ticks\":\"\"},\"colorscale\":[[0.0,\"#0d0887\"],[0.1111111111111111,\"#46039f\"],[0.2222222222222222,\"#7201a8\"],[0.3333333333333333,\"#9c179e\"],[0.4444444444444444,\"#bd3786\"],[0.5555555555555556,\"#d8576b\"],[0.6666666666666666,\"#ed7953\"],[0.7777777777777778,\"#fb9f3a\"],[0.8888888888888888,\"#fdca26\"],[1.0,\"#f0f921\"]]}],\"heatmapgl\":[{\"type\":\"heatmapgl\",\"colorbar\":{\"outlinewidth\":0,\"ticks\":\"\"},\"colorscale\":[[0.0,\"#0d0887\"],[0.1111111111111111,\"#46039f\"],[0.2222222222222222,\"#7201a8\"],[0.3333333333333333,\"#9c179e\"],[0.4444444444444444,\"#bd3786\"],[0.5555555555555556,\"#d8576b\"],[0.6666666666666666,\"#ed7953\"],[0.7777777777777778,\"#fb9f3a\"],[0.8888888888888888,\"#fdca26\"],[1.0,\"#f0f921\"]]}],\"contourcarpet\":[{\"type\":\"contourcarpet\",\"colorbar\":{\"outlinewidth\":0,\"ticks\":\"\"}}],\"contour\":[{\"type\":\"contour\",\"colorbar\":{\"outlinewidth\":0,\"ticks\":\"\"},\"colorscale\":[[0.0,\"#0d0887\"],[0.1111111111111111,\"#46039f\"],[0.2222222222222222,\"#7201a8\"],[0.3333333333333333,\"#9c179e\"],[0.4444444444444444,\"#bd3786\"],[0.5555555555555556,\"#d8576b\"],[0.6666666666666666,\"#ed7953\"],[0.7777777777777778,\"#fb9f3a\"],[0.8888888888888888,\"#fdca26\"],[1.0,\"#f0f921\"]]}],\"surface\":[{\"type\":\"surface\",\"colorbar\":{\"outlinewidth\":0,\"ticks\":\"\"},\"colorscale\":[[0.0,\"#0d0887\"],[0.1111111111111111,\"#46039f\"],[0.2222222222222222,\"#7201a8\"],[0.3333333333333333,\"#9c179e\"],[0.4444444444444444,\"#bd3786\"],[0.5555555555555556,\"#d8576b\"],[0.6666666666666666,\"#ed7953\"],[0.7777777777777778,\"#fb9f3a\"],[0.8888888888888888,\"#fdca26\"],[1.0,\"#f0f921\"]]}],\"mesh3d\":[{\"type\":\"mesh3d\",\"colorbar\":{\"outlinewidth\":0,\"ticks\":\"\"}}],\"scatter\":[{\"fillpattern\":{\"fillmode\":\"overlay\",\"size\":10,\"solidity\":0.2},\"type\":\"scatter\"}],\"parcoords\":[{\"type\":\"parcoords\",\"line\":{\"colorbar\":{\"outlinewidth\":0,\"ticks\":\"\"}}}],\"scatterpolargl\":[{\"type\":\"scatterpolargl\",\"marker\":{\"colorbar\":{\"outlinewidth\":0,\"ticks\":\"\"}}}],\"bar\":[{\"error_x\":{\"color\":\"#2a3f5f\"},\"error_y\":{\"color\":\"#2a3f5f\"},\"marker\":{\"line\":{\"color\":\"#E5ECF6\",\"width\":0.5},\"pattern\":{\"fillmode\":\"overlay\",\"size\":10,\"solidity\":0.2}},\"type\":\"bar\"}],\"scattergeo\":[{\"type\":\"scattergeo\",\"marker\":{\"colorbar\":{\"outlinewidth\":0,\"ticks\":\"\"}}}],\"scatterpolar\":[{\"type\":\"scatterpolar\",\"marker\":{\"colorbar\":{\"outlinewidth\":0,\"ticks\":\"\"}}}],\"histogram\":[{\"marker\":{\"pattern\":{\"fillmode\":\"overlay\",\"size\":10,\"solidity\":0.2}},\"type\":\"histogram\"}],\"scattergl\":[{\"type\":\"scattergl\",\"marker\":{\"colorbar\":{\"outlinewidth\":0,\"ticks\":\"\"}}}],\"scatter3d\":[{\"type\":\"scatter3d\",\"line\":{\"colorbar\":{\"outlinewidth\":0,\"ticks\":\"\"}},\"marker\":{\"colorbar\":{\"outlinewidth\":0,\"ticks\":\"\"}}}],\"scattermapbox\":[{\"type\":\"scattermapbox\",\"marker\":{\"colorbar\":{\"outlinewidth\":0,\"ticks\":\"\"}}}],\"scatterternary\":[{\"type\":\"scatterternary\",\"marker\":{\"colorbar\":{\"outlinewidth\":0,\"ticks\":\"\"}}}],\"scattercarpet\":[{\"type\":\"scattercarpet\",\"marker\":{\"colorbar\":{\"outlinewidth\":0,\"ticks\":\"\"}}}],\"carpet\":[{\"aaxis\":{\"endlinecolor\":\"#2a3f5f\",\"gridcolor\":\"white\",\"linecolor\":\"white\",\"minorgridcolor\":\"white\",\"startlinecolor\":\"#2a3f5f\"},\"baxis\":{\"endlinecolor\":\"#2a3f5f\",\"gridcolor\":\"white\",\"linecolor\":\"white\",\"minorgridcolor\":\"white\",\"startlinecolor\":\"#2a3f5f\"},\"type\":\"carpet\"}],\"table\":[{\"cells\":{\"fill\":{\"color\":\"#EBF0F8\"},\"line\":{\"color\":\"white\"}},\"header\":{\"fill\":{\"color\":\"#C8D4E3\"},\"line\":{\"color\":\"white\"}},\"type\":\"table\"}],\"barpolar\":[{\"marker\":{\"line\":{\"color\":\"#E5ECF6\",\"width\":0.5},\"pattern\":{\"fillmode\":\"overlay\",\"size\":10,\"solidity\":0.2}},\"type\":\"barpolar\"}],\"pie\":[{\"automargin\":true,\"type\":\"pie\"}]},\"layout\":{\"autotypenumbers\":\"strict\",\"colorway\":[\"#636efa\",\"#EF553B\",\"#00cc96\",\"#ab63fa\",\"#FFA15A\",\"#19d3f3\",\"#FF6692\",\"#B6E880\",\"#FF97FF\",\"#FECB52\"],\"font\":{\"color\":\"#2a3f5f\"},\"hovermode\":\"closest\",\"hoverlabel\":{\"align\":\"left\"},\"paper_bgcolor\":\"white\",\"plot_bgcolor\":\"#E5ECF6\",\"polar\":{\"bgcolor\":\"#E5ECF6\",\"angularaxis\":{\"gridcolor\":\"white\",\"linecolor\":\"white\",\"ticks\":\"\"},\"radialaxis\":{\"gridcolor\":\"white\",\"linecolor\":\"white\",\"ticks\":\"\"}},\"ternary\":{\"bgcolor\":\"#E5ECF6\",\"aaxis\":{\"gridcolor\":\"white\",\"linecolor\":\"white\",\"ticks\":\"\"},\"baxis\":{\"gridcolor\":\"white\",\"linecolor\":\"white\",\"ticks\":\"\"},\"caxis\":{\"gridcolor\":\"white\",\"linecolor\":\"white\",\"ticks\":\"\"}},\"coloraxis\":{\"colorbar\":{\"outlinewidth\":0,\"ticks\":\"\"}},\"colorscale\":{\"sequential\":[[0.0,\"#0d0887\"],[0.1111111111111111,\"#46039f\"],[0.2222222222222222,\"#7201a8\"],[0.3333333333333333,\"#9c179e\"],[0.4444444444444444,\"#bd3786\"],[0.5555555555555556,\"#d8576b\"],[0.6666666666666666,\"#ed7953\"],[0.7777777777777778,\"#fb9f3a\"],[0.8888888888888888,\"#fdca26\"],[1.0,\"#f0f921\"]],\"sequentialminus\":[[0.0,\"#0d0887\"],[0.1111111111111111,\"#46039f\"],[0.2222222222222222,\"#7201a8\"],[0.3333333333333333,\"#9c179e\"],[0.4444444444444444,\"#bd3786\"],[0.5555555555555556,\"#d8576b\"],[0.6666666666666666,\"#ed7953\"],[0.7777777777777778,\"#fb9f3a\"],[0.8888888888888888,\"#fdca26\"],[1.0,\"#f0f921\"]],\"diverging\":[[0,\"#8e0152\"],[0.1,\"#c51b7d\"],[0.2,\"#de77ae\"],[0.3,\"#f1b6da\"],[0.4,\"#fde0ef\"],[0.5,\"#f7f7f7\"],[0.6,\"#e6f5d0\"],[0.7,\"#b8e186\"],[0.8,\"#7fbc41\"],[0.9,\"#4d9221\"],[1,\"#276419\"]]},\"xaxis\":{\"gridcolor\":\"white\",\"linecolor\":\"white\",\"ticks\":\"\",\"title\":{\"standoff\":15},\"zerolinecolor\":\"white\",\"automargin\":true,\"zerolinewidth\":2},\"yaxis\":{\"gridcolor\":\"white\",\"linecolor\":\"white\",\"ticks\":\"\",\"title\":{\"standoff\":15},\"zerolinecolor\":\"white\",\"automargin\":true,\"zerolinewidth\":2},\"scene\":{\"xaxis\":{\"backgroundcolor\":\"#E5ECF6\",\"gridcolor\":\"white\",\"linecolor\":\"white\",\"showbackground\":true,\"ticks\":\"\",\"zerolinecolor\":\"white\",\"gridwidth\":2},\"yaxis\":{\"backgroundcolor\":\"#E5ECF6\",\"gridcolor\":\"white\",\"linecolor\":\"white\",\"showbackground\":true,\"ticks\":\"\",\"zerolinecolor\":\"white\",\"gridwidth\":2},\"zaxis\":{\"backgroundcolor\":\"#E5ECF6\",\"gridcolor\":\"white\",\"linecolor\":\"white\",\"showbackground\":true,\"ticks\":\"\",\"zerolinecolor\":\"white\",\"gridwidth\":2}},\"shapedefaults\":{\"line\":{\"color\":\"#2a3f5f\"}},\"annotationdefaults\":{\"arrowcolor\":\"#2a3f5f\",\"arrowhead\":0,\"arrowwidth\":1},\"geo\":{\"bgcolor\":\"white\",\"landcolor\":\"#E5ECF6\",\"subunitcolor\":\"white\",\"showland\":true,\"showlakes\":true,\"lakecolor\":\"white\"},\"title\":{\"x\":0.05},\"mapbox\":{\"style\":\"light\"}}},\"scene\":{\"domain\":{\"x\":[0.0,1.0],\"y\":[0.0,1.0]},\"xaxis\":{\"title\":{\"text\":\"Component 1\"}},\"yaxis\":{\"title\":{\"text\":\"Component 2\"}},\"zaxis\":{\"title\":{\"text\":\"Component 3\"}}},\"legend\":{\"title\":{\"text\":\"Label\"},\"tracegroupgap\":0},\"title\":{\"text\":\"PCA Visualization\"}},                        {\"responsive\": true}                    ).then(function(){\n",
              "                            \n",
              "var gd = document.getElementById('5f40d66f-69c7-4585-8b97-0da9faf010f2');\n",
              "var x = new MutationObserver(function (mutations, observer) {{\n",
              "        var display = window.getComputedStyle(gd).display;\n",
              "        if (!display || display === 'none') {{\n",
              "            console.log([gd, 'removed!']);\n",
              "            Plotly.purge(gd);\n",
              "            observer.disconnect();\n",
              "        }}\n",
              "}});\n",
              "\n",
              "// Listen for the removal of the full notebook cells\n",
              "var notebookContainer = gd.closest('#notebook-container');\n",
              "if (notebookContainer) {{\n",
              "    x.observe(notebookContainer, {childList: true});\n",
              "}}\n",
              "\n",
              "// Listen for the clearing of the current output cell\n",
              "var outputEl = gd.closest('.output');\n",
              "if (outputEl) {{\n",
              "    x.observe(outputEl, {childList: true});\n",
              "}}\n",
              "\n",
              "                        })                };                            </script>        </div>\n",
              "</body>\n",
              "</html>"
            ]
          },
          "metadata": {}
        }
      ],
      "source": [
        "import plotly.express as px\n",
        "\n",
        "reduced_images_real = np.real(reduced_images)\n",
        "reduced_images_imag = np.imag(reduced_images)\n",
        "\n",
        "df = pd.DataFrame({\n",
        "    'Component 1': reduced_images_real[:, 0],\n",
        "    'Component 2': reduced_images_real[:, 1],\n",
        "    'Component 3': reduced_images_real[:, 2],\n",
        "    'Label': label_encoder.inverse_transform(encoded_labels[np.isin(encoded_labels, label_encoder.transform(target_labels))])\n",
        "})\n",
        "\n",
        "fig = px.scatter_3d(df, x='Component 1', y='Component 2', z='Component 3', color='Label', title='PCA Visualization')\n",
        "\n",
        "fig.update_layout(\n",
        "    scene=dict(\n",
        "        xaxis=dict(title='Component 1'),\n",
        "        yaxis=dict(title='Component 2'),\n",
        "        zaxis=dict(title='Component 3')\n",
        "    )\n",
        ")\n",
        "\n",
        "fig.show()\n"
      ]
    },
    {
      "cell_type": "markdown",
      "metadata": {
        "id": "05G8GNkq3ySI"
      },
      "source": [
        "# Sec 4: K-Means"
      ]
    },
    {
      "cell_type": "markdown",
      "metadata": {
        "id": "99sy2kUTNKAB"
      },
      "source": [
        "Using K-means, we want to perform clustering on the 3D samples. Consider 4 clusters. After running the K-means algorithm on the data, determine to which cluster each sample belongs. Then, use `plotly` to plot the 3D samples colored with respect to their clusters. **(P4-1: 15 points)**"
      ]
    },
    {
      "cell_type": "code",
      "execution_count": 209,
      "metadata": {
        "id": "SzNxiAjkOYYQ",
        "colab": {
          "base_uri": "https://localhost:8080/",
          "height": 615
        },
        "outputId": "987b587b-0dea-4c6a-8a53-4f5afc9d8a68"
      },
      "outputs": [
        {
          "output_type": "stream",
          "name": "stderr",
          "text": [
            "/usr/local/lib/python3.10/dist-packages/sklearn/cluster/_kmeans.py:870: FutureWarning:\n",
            "\n",
            "The default value of `n_init` will change from 10 to 'auto' in 1.4. Set the value of `n_init` explicitly to suppress the warning\n",
            "\n"
          ]
        },
        {
          "output_type": "display_data",
          "data": {
            "text/html": [
              "<html>\n",
              "<head><meta charset=\"utf-8\" /></head>\n",
              "<body>\n",
              "    <div>            <script src=\"https://cdnjs.cloudflare.com/ajax/libs/mathjax/2.7.5/MathJax.js?config=TeX-AMS-MML_SVG\"></script><script type=\"text/javascript\">if (window.MathJax && window.MathJax.Hub && window.MathJax.Hub.Config) {window.MathJax.Hub.Config({SVG: {font: \"STIX-Web\"}});}</script>                <script type=\"text/javascript\">window.PlotlyConfig = {MathJaxConfig: 'local'};</script>\n",
              "        <script src=\"https://cdn.plot.ly/plotly-2.18.2.min.js\"></script>                <div id=\"c9542225-c1f9-4a61-b9e9-9837e6814b7a\" class=\"plotly-graph-div\" style=\"height:525px; width:100%;\"></div>            <script type=\"text/javascript\">                                    window.PLOTLYENV=window.PLOTLYENV || {};                                    if (document.getElementById(\"c9542225-c1f9-4a61-b9e9-9837e6814b7a\")) {                    Plotly.newPlot(                        \"c9542225-c1f9-4a61-b9e9-9837e6814b7a\",                        [{\"hovertemplate\":\"x=%{x}<br>y=%{y}<br>z=%{z}<br>label=%{marker.color}<extra></extra>\",\"legendgroup\":\"\",\"marker\":{\"color\":[0,0,0,3,0,3,0,3,3,1,0,0,0,0,0,0,0,0,0,0,1,1,1,1,3,1,3,3,1,1,1,0,1,0,0,3,3,3,0,0,1,1,1,1,3,3,3,3,3,3,0,0,0,3,3,3,3,0,3,3,0,0,3,3,3,3,0,0,3,3,0,0,0,0,0,0,0,0,3,0,1,1,1,1,1,3,3,3,1,1,1,1,1,1,1,1,1,1,3,0,0,0,0,0,0,0,0,0,0,0,3,1,1,1,1,3,1,1,1,1,1,1,3,3,3,0,3,3,1,3,1,1,1,1,1,1,1,1,1,1,0,3,0,0,1,0,1,0,1,1,0,0,0,0,0,0,0,3,0,0,1,1,1,1,3,3,3,3,3,3,0,0,3,1,3,3,0,3,0,3,1,1,0,0,0,0,0,0,0,0,2,2,2,3,3,3,3,3,3,2,2,2,2,1,1,1,3,3,1,3,2,2,2,2,2,2,2,2,2,2,0,0,1,3,1,3,1,0,3,3,0,0,3,3,0,3,3,3,3,3,1,1,1,0,1,1,1,3,1,1,1,1,1,1,1,1,0,1,1,1,0,0,0,0,0,0,1,0,0,0,0,1,0,0,0,0,0,0,1,3,2,2,2,2,3,3,1,3,2,2,1,2,1,2,2,1,2,2,1,1,1,2,2,2,2,2,2,1,1,2,0,0,0,0,0,0,0,0,0,0,2,2,2,2,2,2,2,2,2,2,2,2,2,2,2,2,2,2,2,2,2,2,2,2,3,1,1,1,3,3,3,3,3,3,3,3,3,3,3,3,1,2,1,2,2,2,1,2,1,1,3,1,1,1,1,1,1,1,3,1,2,2,2,2,2,2,2,2,2,2,1,3,3,3,3,1,3,1,3,3],\"coloraxis\":\"coloraxis\",\"symbol\":\"circle\"},\"mode\":\"markers\",\"name\":\"\",\"scene\":\"scene\",\"showlegend\":false,\"x\":[0.3215686274509804,0.44313725490196076,0.3137254901960784,0.20392156862745098,0.49019607843137253,0.5411764705882353,0.34901960784313724,0.11764705882352941,0.24313725490196078,0.38823529411764707,0.5411764705882353,0.6549019607843137,0.6823529411764706,0.6431372549019608,0.6313725490196078,0.6588235294117647,0.6352941176470588,0.5843137254901961,0.6980392156862745,0.5647058823529412,0.5725490196078431,0.6352941176470588,0.6392156862745098,0.20392156862745098,0.1568627450980392,0.2,0.16862745098039217,0.16862745098039217,0.5137254901960784,0.5294117647058824,0.18823529411764706,0.5764705882352941,0.29411764705882354,0.5215686274509804,0.6509803921568628,0.3568627450980392,0.16470588235294117,0.13333333333333333,0.7215686274509804,0.7803921568627451,0.43529411764705883,0.6745098039215687,0.6666666666666666,0.43529411764705883,0.5098039215686274,0.33725490196078434,0.5215686274509804,0.5176470588235295,0.5294117647058824,0.3176470588235294,0.7176470588235294,0.7019607843137254,0.7058823529411765,0.6509803921568628,0.30980392156862746,0.6509803921568628,0.27450980392156865,0.7098039215686275,0.23921568627450981,0.5568627450980392,0.21176470588235294,0.3215686274509804,0.20784313725490197,0.16470588235294117,0.25882352941176473,0.21568627450980393,0.25098039215686274,0.23137254901960785,0.2196078431372549,0.2901960784313726,0.19215686274509805,0.21176470588235294,0.396078431372549,0.803921568627451,0.2784313725490196,0.33725490196078434,0.7647058823529411,0.2,0.22745098039215686,0.7607843137254902,0.47058823529411764,0.5294117647058824,0.5098039215686274,0.3333333333333333,0.5254901960784314,0.14901960784313725,0.36470588235294116,0.19607843137254902,0.43137254901960786,0.5529411764705883,0.34509803921568627,0.2823529411764706,0.5647058823529412,0.6549019607843137,0.25098039215686274,0.5058823529411764,0.5215686274509804,0.38823529411764707,0.12156862745098039,0.41568627450980394,0.2823529411764706,0.16862745098039217,0.36470588235294116,0.11372549019607843,0.3333333333333333,0.19215686274509805,0.23137254901960785,0.5725490196078431,0.7764705882352941,0.25882352941176473,0.4745098039215686,0.5137254901960784,0.3333333333333333,0.6235294117647059,0.4588235294117647,0.4235294117647059,0.5490196078431373,0.5607843137254902,0.611764705882353,0.5254901960784314,0.3764705882352941,0.5568627450980392,0.27058823529411763,0.25882352941176473,0.5098039215686274,0.6352941176470588,0.2627450980392157,0.19607843137254902,0.5411764705882353,0.4549019607843137,0.6313725490196078,0.6274509803921569,0.6588235294117647,0.3686274509803922,0.4627450980392157,0.6431372549019608,0.396078431372549,0.396078431372549,0.6352941176470588,0.3843137254901961,0.6,0.5529411764705883,0.5333333333333333,0.49411764705882355,0.5372549019607843,0.47058823529411764,0.5490196078431373,0.5529411764705883,0.5333333333333333,0.5647058823529412,0.6274509803921569,0.49411764705882355,0.5529411764705883,0.596078431372549,0.5882352941176471,0.44313725490196076,0.6196078431372549,0.27058823529411763,0.23921568627450981,0.5411764705882353,0.4392156862745098,0.43529411764705883,0.3411764705882353,0.5568627450980392,0.4745098039215686,0.18823529411764706,0.14901960784313725,0.23529411764705882,0.1803921568627451,0.23921568627450981,0.5098039215686274,0.5490196078431373,0.39215686274509803,0.5098039215686274,0.4745098039215686,0.48627450980392156,0.40784313725490196,0.4470588235294118,0.40784313725490196,0.3411764705882353,0.25882352941176473,0.26666666666666666,0.2627450980392157,0.38823529411764707,0.3176470588235294,0.25882352941176473,0.4549019607843137,0.37254901960784315,0.3568627450980392,0.24313725490196078,0.49019607843137253,0.403921568627451,0.4117647058823529,0.1568627450980392,0.33725490196078434,0.1843137254901961,0.28627450980392155,0.24705882352941178,0.24313725490196078,0.6823529411764706,0.5098039215686274,0.2196078431372549,0.3176470588235294,0.48627450980392156,0.49411764705882355,0.5058823529411764,0.22745098039215686,0.2980392156862745,0.4823529411764706,0.2,0.1568627450980392,0.1607843137254902,0.19607843137254902,0.1607843137254902,0.1450980392156863,0.2,0.20784313725490197,0.24313725490196078,0.1607843137254902,0.1568627450980392,0.43137254901960786,0.7333333333333333,0.6549019607843137,0.11764705882352941,0.7098039215686275,0.13333333333333333,0.5490196078431373,0.7372549019607844,0.4235294117647059,0.16862745098039217,0.42745098039215684,0.4627450980392157,0.09803921568627451,0.1450980392156863,0.3803921568627451,0.2,0.19607843137254902,0.5647058823529412,0.1450980392156863,0.17254901960784313,0.5647058823529412,0.792156862745098,0.6392156862745098,0.14901960784313725,0.23529411764705882,0.6705882352941176,0.3686274509803922,0.1843137254901961,0.36470588235294116,0.6431372549019608,0.6235294117647059,0.2627450980392157,0.6078431372549019,0.7725490196078432,0.7607843137254902,0.4588235294117647,0.6431372549019608,0.7529411764705882,0.6313725490196078,0.7568627450980392,0.44313725490196076,0.4,0.45098039215686275,0.44313725490196076,0.6784313725490196,0.4196078431372549,0.3568627450980392,0.45098039215686275,0.6784313725490196,0.4117647058823529,0.6313725490196078,0.615686274509804,0.38823529411764707,0.21568627450980393,0.6784313725490196,0.592156862745098,0.7215686274509804,0.7294117647058823,0.7490196078431373,0.34509803921568627,0.16862745098039217,0.2235294117647059,0.30196078431372547,0.34901960784313724,0.3686274509803922,0.34901960784313724,0.26666666666666666,0.30196078431372547,0.25882352941176473,0.1607843137254902,0.4470588235294118,0.4392156862745098,0.49411764705882355,0.37254901960784315,0.43529411764705883,0.32941176470588235,0.3176470588235294,0.2235294117647059,0.4235294117647059,0.39215686274509803,0.49019607843137253,0.7098039215686275,0.7058823529411765,0.6235294117647059,0.7098039215686275,0.4235294117647059,0.48627450980392156,0.49019607843137253,0.47058823529411764,0.7764705882352941,0.39215686274509803,0.4823529411764706,0.49411764705882355,0.5803921568627451,0.37254901960784315,0.6,0.7803921568627451,0.5058823529411764,0.6039215686274509,0.4666666666666667,0.11372549019607843,0.12941176470588237,0.12549019607843137,0.13333333333333333,0.12156862745098039,0.1411764705882353,0.1411764705882353,0.10588235294117647,0.10980392156862745,0.13333333333333333,0.43529411764705883,0.4549019607843137,0.4392156862745098,0.21176470588235294,0.48627450980392156,0.48627450980392156,0.49411764705882355,0.41568627450980394,0.4235294117647059,0.43529411764705883,0.2901960784313726,0.34901960784313724,0.38823529411764707,0.37254901960784315,0.32941176470588235,0.37254901960784315,0.4117647058823529,0.3215686274509804,0.2627450980392157,0.27058823529411763,0.21568627450980393,0.0784313725490196,0.17647058823529413,0.2627450980392157,0.23921568627450981,0.11764705882352941,0.10588235294117647,0.4627450980392157,0.5254901960784314,0.2,0.27058823529411763,0.34509803921568627,0.2196078431372549,0.33725490196078434,0.22745098039215686,0.3607843137254902,0.33725490196078434,0.49019607843137253,0.2,0.2980392156862745,0.12941176470588237,0.12549019607843137,0.09803921568627451,0.1568627450980392,0.09803921568627451,0.09019607843137255,0.17647058823529413,0.28627450980392155,0.1450980392156863,0.09019607843137255,0.23137254901960785,0.3686274509803922,0.2901960784313726,0.1411764705882353,0.2980392156862745,0.1450980392156863,0.2784313725490196,0.3686274509803922,0.32941176470588235,0.1568627450980392,0.5450980392156862,0.3333333333333333,0.45098039215686275,0.5176470588235295,0.29411764705882354,0.4117647058823529,0.34509803921568627,0.48627450980392156,0.20392156862745098,0.49411764705882355],\"y\":[0.3764705882352941,0.4745098039215686,0.4117647058823529,0.18823529411764706,0.5294117647058824,0.5411764705882353,0.30980392156862746,0.1843137254901961,0.3058823529411765,0.42745098039215684,0.5764705882352941,0.6745098039215687,0.6862745098039216,0.6509803921568628,0.6431372549019608,0.6862745098039216,0.592156862745098,0.596078431372549,0.7019607843137254,0.6196078431372549,0.592156862745098,0.6549019607843137,0.6588235294117647,0.18823529411764706,0.1568627450980392,0.2549019607843137,0.18823529411764706,0.1803921568627451,0.5529411764705883,0.5490196078431373,0.23921568627450981,0.6549019607843137,0.1803921568627451,0.5843137254901961,0.6627450980392157,0.4117647058823529,0.36470588235294116,0.15294117647058825,0.7215686274509804,0.7647058823529411,0.45098039215686275,0.6745098039215687,0.6588235294117647,0.4470588235294118,0.5019607843137255,0.396078431372549,0.5058823529411764,0.5215686274509804,0.5294117647058824,0.47058823529411764,0.7176470588235294,0.7058823529411765,0.7098039215686275,0.6666666666666666,0.43529411764705883,0.6392156862745098,0.25098039215686274,0.7137254901960784,0.41568627450980394,0.6,0.26666666666666666,0.2823529411764706,0.21176470588235294,0.2627450980392157,0.19215686274509805,0.21176470588235294,0.3137254901960784,0.2235294117647059,0.2235294117647059,0.3137254901960784,0.1803921568627451,0.18823529411764706,0.49411764705882355,0.8117647058823529,0.33725490196078434,0.44313725490196076,0.792156862745098,0.25882352941176473,0.25882352941176473,0.7725490196078432,0.5058823529411764,0.5254901960784314,0.5490196078431373,0.43529411764705883,0.5294117647058824,0.050980392156862744,0.3137254901960784,0.29411764705882354,0.47058823529411764,0.5686274509803921,0.4549019607843137,0.4,0.6039215686274509,0.6313725490196078,0.33725490196078434,0.5607843137254902,0.5450980392156862,0.49411764705882355,0.050980392156862744,0.4980392156862745,0.2235294117647059,0.2627450980392157,0.07450980392156863,0.6196078431372549,0.3254901960784314,0.2980392156862745,0.3843137254901961,0.7372549019607844,0.8117647058823529,0.25882352941176473,0.5254901960784314,0.592156862745098,0.4666666666666667,0.6549019607843137,0.5686274509803921,0.48627450980392156,0.615686274509804,0.6,0.6549019607843137,0.5647058823529412,0.49411764705882355,0.5803921568627451,0.28627450980392155,0.2980392156862745,0.5176470588235295,0.6627450980392157,0.28627450980392155,0.13725490196078433,0.5254901960784314,0.49019607843137253,0.6235294117647059,0.6274509803921569,0.6352941176470588,0.5137254901960784,0.592156862745098,0.6549019607843137,0.32941176470588235,0.3568627450980392,0.6784313725490196,0.5333333333333333,0.5647058823529412,0.5686274509803921,0.5607843137254902,0.5215686274509804,0.5529411764705883,0.5411764705882353,0.5647058823529412,0.5019607843137255,0.5450980392156862,0.5764705882352941,0.6274509803921569,0.5450980392156862,0.596078431372549,0.6941176470588235,0.6941176470588235,0.6039215686274509,0.6274509803921569,0.19215686274509805,0.3764705882352941,0.5882352941176471,0.47058823529411764,0.4745098039215686,0.4588235294117647,0.6274509803921569,0.5058823529411764,0.2235294117647059,0.1450980392156863,0.3686274509803922,0.20784313725490197,0.23921568627450981,0.5411764705882353,0.5372549019607843,0.35294117647058826,0.5098039215686274,0.5098039215686274,0.45098039215686275,0.48627450980392156,0.4117647058823529,0.4627450980392157,0.3803921568627451,0.23529411764705882,0.21568627450980393,0.24705882352941178,0.611764705882353,0.47843137254901963,0.24705882352941178,0.6666666666666666,0.6078431372549019,0.5568627450980392,0.4,0.5529411764705883,0.5137254901960784,0.5215686274509804,0.20392156862745098,0.37254901960784315,0.23137254901960785,0.3686274509803922,0.3333333333333333,0.3137254901960784,0.6823529411764706,0.5058823529411764,0.35294117647058826,0.41568627450980394,0.4745098039215686,0.5137254901960784,0.5137254901960784,0.3254901960784314,0.18823529411764706,0.49411764705882355,0.23529411764705882,0.13333333333333333,0.1607843137254902,0.2901960784313726,0.12941176470588237,0.18823529411764706,0.19215686274509805,0.30980392156862746,0.3333333333333333,0.19607843137254902,0.11764705882352941,0.5764705882352941,0.7372549019607844,0.6666666666666666,0.34509803921568627,0.7137254901960784,0.2,0.5647058823529412,0.7529411764705882,0.24313725490196078,0.14901960784313725,0.4627450980392157,0.5019607843137255,0.12156862745098039,0.17647058823529413,0.4392156862745098,0.29411764705882354,0.3176470588235294,0.5529411764705883,0.19607843137254902,0.19607843137254902,0.6078431372549019,0.788235294117647,0.6627450980392157,0.3411764705882353,0.2,0.7137254901960784,0.49411764705882355,0.18823529411764706,0.40784313725490196,0.6784313725490196,0.6745098039215687,0.24313725490196078,0.6509803921568628,0.7725490196078432,0.7607843137254902,0.5176470588235295,0.6470588235294118,0.7568627450980392,0.6705882352941176,0.7647058823529411,0.4470588235294118,0.44313725490196076,0.5019607843137255,0.5490196078431373,0.7254901960784313,0.5411764705882353,0.39215686274509803,0.5019607843137255,0.7333333333333333,0.4823529411764706,0.6392156862745098,0.6352941176470588,0.5882352941176471,0.21176470588235294,0.6627450980392157,0.6274509803921569,0.7137254901960784,0.7176470588235294,0.7490196078431373,0.3176470588235294,0.1411764705882353,0.19215686274509805,0.2901960784313726,0.3215686274509804,0.3176470588235294,0.29411764705882354,0.20784313725490197,0.3176470588235294,0.24313725490196078,0.13725490196078433,0.4745098039215686,0.4745098039215686,0.5176470588235295,0.24705882352941178,0.3764705882352941,0.38823529411764707,0.40784313725490196,0.35294117647058826,0.4549019607843137,0.4392156862745098,0.4980392156862745,0.7686274509803922,0.7333333333333333,0.6901960784313725,0.7372549019607844,0.4745098039215686,0.5254901960784314,0.4980392156862745,0.5176470588235295,0.7529411764705882,0.5725490196078431,0.48627450980392156,0.6901960784313725,0.5215686274509804,0.5019607843137255,0.7294117647058823,0.8117647058823529,0.6,0.6627450980392157,0.5529411764705883,0.10588235294117647,0.12156862745098039,0.10980392156862745,0.13725490196078433,0.11764705882352941,0.12941176470588237,0.12549019607843137,0.11764705882352941,0.10196078431372549,0.13333333333333333,0.4666666666666667,0.5019607843137255,0.4627450980392157,0.19607843137254902,0.4392156862745098,0.47058823529411764,0.4627450980392157,0.4666666666666667,0.4549019607843137,0.45098039215686275,0.2980392156862745,0.34901960784313724,0.3333333333333333,0.3803921568627451,0.3176470588235294,0.38823529411764707,0.4196078431372549,0.36470588235294116,0.27450980392156865,0.2627450980392157,0.3058823529411765,0.13333333333333333,0.27450980392156865,0.39215686274509803,0.2549019607843137,0.1843137254901961,0.11764705882352941,0.5137254901960784,0.5568627450980392,0.2901960784313726,0.19215686274509805,0.30196078431372547,0.2196078431372549,0.2823529411764706,0.25098039215686274,0.25098039215686274,0.21176470588235294,0.29411764705882354,0.2823529411764706,0.23529411764705882,0.09803921568627451,0.2235294117647059,0.16470588235294117,0.23137254901960785,0.1568627450980392,0.09411764705882353,0.2784313725490196,0.3607843137254902,0.06274509803921569,0.14901960784313725,0.2235294117647059,0.39215686274509803,0.2627450980392157,0.1607843137254902,0.23137254901960785,0.23137254901960785,0.3058823529411765,0.3686274509803922,0.27058823529411763,0.17647058823529413,0.596078431372549,0.38823529411764707,0.49019607843137253,0.4666666666666667,0.33725490196078434,0.47058823529411764,0.3843137254901961,0.5411764705882353,0.24313725490196078,0.48627450980392156],\"z\":[0.4235294117647059,0.5215686274509804,0.49019607843137253,0.19607843137254902,0.5803921568627451,0.5372549019607843,0.3058823529411765,0.2549019607843137,0.3764705882352941,0.48627450980392156,0.6274509803921569,0.6941176470588235,0.6901960784313725,0.6666666666666666,0.6627450980392157,0.7058823529411765,0.6352941176470588,0.6627450980392157,0.7058823529411765,0.6784313725490196,0.6274509803921569,0.6862745098039216,0.6862745098039216,0.1568627450980392,0.14901960784313725,0.34901960784313724,0.17647058823529413,0.15294117647058825,0.5490196078431373,0.5764705882352941,0.22745098039215686,0.6980392156862745,0.13725490196078433,0.611764705882353,0.6784313725490196,0.34901960784313724,0.5215686274509804,0.20392156862745098,0.7176470588235294,0.7529411764705882,0.5372549019607843,0.6784313725490196,0.6549019607843137,0.5411764705882353,0.5058823529411764,0.49411764705882355,0.5215686274509804,0.5294117647058824,0.5607843137254902,0.5568627450980392,0.7176470588235294,0.7058823529411765,0.7137254901960784,0.6705882352941176,0.5411764705882353,0.6470588235294118,0.43529411764705883,0.7176470588235294,0.3058823529411765,0.6470588235294118,0.39215686274509803,0.5450980392156862,0.2,0.2784313725490196,0.3137254901960784,0.1843137254901961,0.34901960784313724,0.26666666666666666,0.2196078431372549,0.34901960784313724,0.3254901960784314,0.3176470588235294,0.611764705882353,0.8274509803921568,0.44313725490196076,0.5568627450980392,0.8117647058823529,0.32941176470588235,0.2196078431372549,0.792156862745098,0.5490196078431373,0.5607843137254902,0.5803921568627451,0.49019607843137253,0.5450980392156862,0.12156862745098039,0.1843137254901961,0.41568627450980394,0.5215686274509804,0.592156862745098,0.5333333333333333,0.5294117647058824,0.6509803921568628,0.6470588235294118,0.44313725490196076,0.6313725490196078,0.6039215686274509,0.5568627450980392,0.3137254901960784,0.5529411764705883,0.2235294117647059,0.6705882352941176,0.2627450980392157,0.8509803921568627,0.3803921568627451,0.6745098039215687,0.6470588235294118,0.8313725490196079,0.8392156862745098,0.25882352941176473,0.5843137254901961,0.6549019607843137,0.5686274509803921,0.6823529411764706,0.6431372549019608,0.5450980392156862,0.6431372549019608,0.6431372549019608,0.6941176470588235,0.615686274509804,0.5568627450980392,0.611764705882353,0.39215686274509803,0.29411764705882354,0.5215686274509804,0.6980392156862745,0.27450980392156865,0.18823529411764706,0.5372549019607843,0.5176470588235295,0.611764705882353,0.6392156862745098,0.6431372549019608,0.596078431372549,0.6,0.6784313725490196,0.42745098039215684,0.5686274509803921,0.7254901960784313,0.615686274509804,0.5568627450980392,0.5882352941176471,0.5686274509803921,0.5450980392156862,0.5686274509803921,0.596078431372549,0.5882352941176471,0.5372549019607843,0.5647058823529412,0.596078431372549,0.6313725490196078,0.5843137254901961,0.5686274509803921,0.7333333333333333,0.7450980392156863,0.6392156862745098,0.6352941176470588,0.1411764705882353,0.49411764705882355,0.5725490196078431,0.5098039215686274,0.5215686274509804,0.5725490196078431,0.6901960784313725,0.5372549019607843,0.24313725490196078,0.2196078431372549,0.4823529411764706,0.19607843137254902,0.24313725490196078,0.5372549019607843,0.5215686274509804,0.33725490196078434,0.5294117647058824,0.4627450980392157,0.42745098039215684,0.5137254901960784,0.4745098039215686,0.5098039215686274,0.35294117647058826,0.2196078431372549,0.34901960784313724,0.3607843137254902,0.7607843137254902,0.6666666666666666,0.27058823529411763,0.788235294117647,0.7725490196078432,0.7411764705882353,0.40784313725490196,0.6274509803921569,0.6235294117647059,0.6274509803921569,0.24313725490196078,0.43137254901960786,0.27450980392156865,0.4117647058823529,0.403921568627451,0.37254901960784315,0.6745098039215687,0.5019607843137255,0.44313725490196076,0.4666666666666667,0.4666666666666667,0.5254901960784314,0.5254901960784314,0.403921568627451,0.21568627450980393,0.5058823529411764,0.3411764705882353,0.19215686274509805,0.12156862745098039,0.34901960784313724,0.1450980392156863,0.26666666666666666,0.2,0.3764705882352941,0.3803921568627451,0.2549019607843137,0.2235294117647059,0.6666666666666666,0.7490196078431373,0.6823529411764706,0.5450980392156862,0.7215686274509804,0.4235294117647059,0.596078431372549,0.7686274509803922,0.06274509803921569,0.10196078431372549,0.5019607843137255,0.5333333333333333,0.12941176470588237,0.22745098039215686,0.5176470588235295,0.3215686274509804,0.40784313725490196,0.5490196078431373,0.27450980392156865,0.2627450980392157,0.6666666666666666,0.788235294117647,0.6823529411764706,0.5254901960784314,0.23921568627450981,0.7529411764705882,0.5803921568627451,0.10588235294117647,0.5058823529411764,0.7137254901960784,0.7215686274509804,0.2196078431372549,0.7019607843137254,0.7686274509803922,0.7607843137254902,0.592156862745098,0.6509803921568628,0.7647058823529411,0.7019607843137254,0.7764705882352941,0.592156862745098,0.5568627450980392,0.7098039215686275,0.7176470588235294,0.7686274509803922,0.7098039215686275,0.48627450980392156,0.6627450980392157,0.788235294117647,0.6078431372549019,0.6509803921568628,0.6196078431372549,0.6078431372549019,0.5647058823529412,0.6745098039215687,0.6627450980392157,0.7411764705882353,0.7176470588235294,0.7568627450980392,0.24313725490196078,0.11764705882352941,0.1607843137254902,0.26666666666666666,0.26666666666666666,0.20784313725490197,0.2,0.17647058823529413,0.32941176470588235,0.23921568627450981,0.13725490196078433,0.5176470588235295,0.5176470588235295,0.5490196078431373,0.20784313725490197,0.24705882352941178,0.4588235294117647,0.47058823529411764,0.44313725490196076,0.48627450980392156,0.4980392156862745,0.5098039215686274,0.8,0.7647058823529411,0.7529411764705882,0.7647058823529411,0.5333333333333333,0.5725490196078431,0.5098039215686274,0.5529411764705883,0.7372549019607844,0.7215686274509804,0.6235294117647059,0.6392156862745098,0.5725490196078431,0.6509803921568628,0.8392156862745098,0.792156862745098,0.6274509803921569,0.5176470588235295,0.6313725490196078,0.10588235294117647,0.11372549019607843,0.10588235294117647,0.12156862745098039,0.11764705882352941,0.12549019607843137,0.11764705882352941,0.12156862745098039,0.10588235294117647,0.12549019607843137,0.47843137254901963,0.47058823529411764,0.47843137254901963,0.2980392156862745,0.44313725490196076,0.47058823529411764,0.4666666666666667,0.4588235294117647,0.48627450980392156,0.4823529411764706,0.34509803921568627,0.3607843137254902,0.2980392156862745,0.41568627450980394,0.3176470588235294,0.41568627450980394,0.4392156862745098,0.3686274509803922,0.2980392156862745,0.30196078431372547,0.3686274509803922,0.15294117647058825,0.3764705882352941,0.49411764705882355,0.42745098039215684,0.2196078431372549,0.1568627450980392,0.5607843137254902,0.592156862745098,0.39215686274509803,0.30196078431372547,0.7058823529411765,0.40784313725490196,0.2549019607843137,0.5764705882352941,0.22745098039215686,0.4470588235294118,0.25098039215686274,0.5176470588235295,0.26666666666666666,0.11372549019607843,0.3333333333333333,0.27450980392156865,0.33725490196078434,0.27058823529411763,0.09803921568627451,0.4,0.4549019607843137,0.11372549019607843,0.24705882352941178,0.2235294117647059,0.4235294117647059,0.19215686274509805,0.20784313725490197,0.19215686274509805,0.29411764705882354,0.3411764705882353,0.39215686274509803,0.23529411764705882,0.1843137254901961,0.6431372549019608,0.47843137254901963,0.5529411764705883,0.3058823529411765,0.41568627450980394,0.5568627450980392,0.33725490196078434,0.6039215686274509,0.20784313725490197,0.26666666666666666],\"type\":\"scatter3d\"}],                        {\"template\":{\"data\":{\"histogram2dcontour\":[{\"type\":\"histogram2dcontour\",\"colorbar\":{\"outlinewidth\":0,\"ticks\":\"\"},\"colorscale\":[[0.0,\"#0d0887\"],[0.1111111111111111,\"#46039f\"],[0.2222222222222222,\"#7201a8\"],[0.3333333333333333,\"#9c179e\"],[0.4444444444444444,\"#bd3786\"],[0.5555555555555556,\"#d8576b\"],[0.6666666666666666,\"#ed7953\"],[0.7777777777777778,\"#fb9f3a\"],[0.8888888888888888,\"#fdca26\"],[1.0,\"#f0f921\"]]}],\"choropleth\":[{\"type\":\"choropleth\",\"colorbar\":{\"outlinewidth\":0,\"ticks\":\"\"}}],\"histogram2d\":[{\"type\":\"histogram2d\",\"colorbar\":{\"outlinewidth\":0,\"ticks\":\"\"},\"colorscale\":[[0.0,\"#0d0887\"],[0.1111111111111111,\"#46039f\"],[0.2222222222222222,\"#7201a8\"],[0.3333333333333333,\"#9c179e\"],[0.4444444444444444,\"#bd3786\"],[0.5555555555555556,\"#d8576b\"],[0.6666666666666666,\"#ed7953\"],[0.7777777777777778,\"#fb9f3a\"],[0.8888888888888888,\"#fdca26\"],[1.0,\"#f0f921\"]]}],\"heatmap\":[{\"type\":\"heatmap\",\"colorbar\":{\"outlinewidth\":0,\"ticks\":\"\"},\"colorscale\":[[0.0,\"#0d0887\"],[0.1111111111111111,\"#46039f\"],[0.2222222222222222,\"#7201a8\"],[0.3333333333333333,\"#9c179e\"],[0.4444444444444444,\"#bd3786\"],[0.5555555555555556,\"#d8576b\"],[0.6666666666666666,\"#ed7953\"],[0.7777777777777778,\"#fb9f3a\"],[0.8888888888888888,\"#fdca26\"],[1.0,\"#f0f921\"]]}],\"heatmapgl\":[{\"type\":\"heatmapgl\",\"colorbar\":{\"outlinewidth\":0,\"ticks\":\"\"},\"colorscale\":[[0.0,\"#0d0887\"],[0.1111111111111111,\"#46039f\"],[0.2222222222222222,\"#7201a8\"],[0.3333333333333333,\"#9c179e\"],[0.4444444444444444,\"#bd3786\"],[0.5555555555555556,\"#d8576b\"],[0.6666666666666666,\"#ed7953\"],[0.7777777777777778,\"#fb9f3a\"],[0.8888888888888888,\"#fdca26\"],[1.0,\"#f0f921\"]]}],\"contourcarpet\":[{\"type\":\"contourcarpet\",\"colorbar\":{\"outlinewidth\":0,\"ticks\":\"\"}}],\"contour\":[{\"type\":\"contour\",\"colorbar\":{\"outlinewidth\":0,\"ticks\":\"\"},\"colorscale\":[[0.0,\"#0d0887\"],[0.1111111111111111,\"#46039f\"],[0.2222222222222222,\"#7201a8\"],[0.3333333333333333,\"#9c179e\"],[0.4444444444444444,\"#bd3786\"],[0.5555555555555556,\"#d8576b\"],[0.6666666666666666,\"#ed7953\"],[0.7777777777777778,\"#fb9f3a\"],[0.8888888888888888,\"#fdca26\"],[1.0,\"#f0f921\"]]}],\"surface\":[{\"type\":\"surface\",\"colorbar\":{\"outlinewidth\":0,\"ticks\":\"\"},\"colorscale\":[[0.0,\"#0d0887\"],[0.1111111111111111,\"#46039f\"],[0.2222222222222222,\"#7201a8\"],[0.3333333333333333,\"#9c179e\"],[0.4444444444444444,\"#bd3786\"],[0.5555555555555556,\"#d8576b\"],[0.6666666666666666,\"#ed7953\"],[0.7777777777777778,\"#fb9f3a\"],[0.8888888888888888,\"#fdca26\"],[1.0,\"#f0f921\"]]}],\"mesh3d\":[{\"type\":\"mesh3d\",\"colorbar\":{\"outlinewidth\":0,\"ticks\":\"\"}}],\"scatter\":[{\"fillpattern\":{\"fillmode\":\"overlay\",\"size\":10,\"solidity\":0.2},\"type\":\"scatter\"}],\"parcoords\":[{\"type\":\"parcoords\",\"line\":{\"colorbar\":{\"outlinewidth\":0,\"ticks\":\"\"}}}],\"scatterpolargl\":[{\"type\":\"scatterpolargl\",\"marker\":{\"colorbar\":{\"outlinewidth\":0,\"ticks\":\"\"}}}],\"bar\":[{\"error_x\":{\"color\":\"#2a3f5f\"},\"error_y\":{\"color\":\"#2a3f5f\"},\"marker\":{\"line\":{\"color\":\"#E5ECF6\",\"width\":0.5},\"pattern\":{\"fillmode\":\"overlay\",\"size\":10,\"solidity\":0.2}},\"type\":\"bar\"}],\"scattergeo\":[{\"type\":\"scattergeo\",\"marker\":{\"colorbar\":{\"outlinewidth\":0,\"ticks\":\"\"}}}],\"scatterpolar\":[{\"type\":\"scatterpolar\",\"marker\":{\"colorbar\":{\"outlinewidth\":0,\"ticks\":\"\"}}}],\"histogram\":[{\"marker\":{\"pattern\":{\"fillmode\":\"overlay\",\"size\":10,\"solidity\":0.2}},\"type\":\"histogram\"}],\"scattergl\":[{\"type\":\"scattergl\",\"marker\":{\"colorbar\":{\"outlinewidth\":0,\"ticks\":\"\"}}}],\"scatter3d\":[{\"type\":\"scatter3d\",\"line\":{\"colorbar\":{\"outlinewidth\":0,\"ticks\":\"\"}},\"marker\":{\"colorbar\":{\"outlinewidth\":0,\"ticks\":\"\"}}}],\"scattermapbox\":[{\"type\":\"scattermapbox\",\"marker\":{\"colorbar\":{\"outlinewidth\":0,\"ticks\":\"\"}}}],\"scatterternary\":[{\"type\":\"scatterternary\",\"marker\":{\"colorbar\":{\"outlinewidth\":0,\"ticks\":\"\"}}}],\"scattercarpet\":[{\"type\":\"scattercarpet\",\"marker\":{\"colorbar\":{\"outlinewidth\":0,\"ticks\":\"\"}}}],\"carpet\":[{\"aaxis\":{\"endlinecolor\":\"#2a3f5f\",\"gridcolor\":\"white\",\"linecolor\":\"white\",\"minorgridcolor\":\"white\",\"startlinecolor\":\"#2a3f5f\"},\"baxis\":{\"endlinecolor\":\"#2a3f5f\",\"gridcolor\":\"white\",\"linecolor\":\"white\",\"minorgridcolor\":\"white\",\"startlinecolor\":\"#2a3f5f\"},\"type\":\"carpet\"}],\"table\":[{\"cells\":{\"fill\":{\"color\":\"#EBF0F8\"},\"line\":{\"color\":\"white\"}},\"header\":{\"fill\":{\"color\":\"#C8D4E3\"},\"line\":{\"color\":\"white\"}},\"type\":\"table\"}],\"barpolar\":[{\"marker\":{\"line\":{\"color\":\"#E5ECF6\",\"width\":0.5},\"pattern\":{\"fillmode\":\"overlay\",\"size\":10,\"solidity\":0.2}},\"type\":\"barpolar\"}],\"pie\":[{\"automargin\":true,\"type\":\"pie\"}]},\"layout\":{\"autotypenumbers\":\"strict\",\"colorway\":[\"#636efa\",\"#EF553B\",\"#00cc96\",\"#ab63fa\",\"#FFA15A\",\"#19d3f3\",\"#FF6692\",\"#B6E880\",\"#FF97FF\",\"#FECB52\"],\"font\":{\"color\":\"#2a3f5f\"},\"hovermode\":\"closest\",\"hoverlabel\":{\"align\":\"left\"},\"paper_bgcolor\":\"white\",\"plot_bgcolor\":\"#E5ECF6\",\"polar\":{\"bgcolor\":\"#E5ECF6\",\"angularaxis\":{\"gridcolor\":\"white\",\"linecolor\":\"white\",\"ticks\":\"\"},\"radialaxis\":{\"gridcolor\":\"white\",\"linecolor\":\"white\",\"ticks\":\"\"}},\"ternary\":{\"bgcolor\":\"#E5ECF6\",\"aaxis\":{\"gridcolor\":\"white\",\"linecolor\":\"white\",\"ticks\":\"\"},\"baxis\":{\"gridcolor\":\"white\",\"linecolor\":\"white\",\"ticks\":\"\"},\"caxis\":{\"gridcolor\":\"white\",\"linecolor\":\"white\",\"ticks\":\"\"}},\"coloraxis\":{\"colorbar\":{\"outlinewidth\":0,\"ticks\":\"\"}},\"colorscale\":{\"sequential\":[[0.0,\"#0d0887\"],[0.1111111111111111,\"#46039f\"],[0.2222222222222222,\"#7201a8\"],[0.3333333333333333,\"#9c179e\"],[0.4444444444444444,\"#bd3786\"],[0.5555555555555556,\"#d8576b\"],[0.6666666666666666,\"#ed7953\"],[0.7777777777777778,\"#fb9f3a\"],[0.8888888888888888,\"#fdca26\"],[1.0,\"#f0f921\"]],\"sequentialminus\":[[0.0,\"#0d0887\"],[0.1111111111111111,\"#46039f\"],[0.2222222222222222,\"#7201a8\"],[0.3333333333333333,\"#9c179e\"],[0.4444444444444444,\"#bd3786\"],[0.5555555555555556,\"#d8576b\"],[0.6666666666666666,\"#ed7953\"],[0.7777777777777778,\"#fb9f3a\"],[0.8888888888888888,\"#fdca26\"],[1.0,\"#f0f921\"]],\"diverging\":[[0,\"#8e0152\"],[0.1,\"#c51b7d\"],[0.2,\"#de77ae\"],[0.3,\"#f1b6da\"],[0.4,\"#fde0ef\"],[0.5,\"#f7f7f7\"],[0.6,\"#e6f5d0\"],[0.7,\"#b8e186\"],[0.8,\"#7fbc41\"],[0.9,\"#4d9221\"],[1,\"#276419\"]]},\"xaxis\":{\"gridcolor\":\"white\",\"linecolor\":\"white\",\"ticks\":\"\",\"title\":{\"standoff\":15},\"zerolinecolor\":\"white\",\"automargin\":true,\"zerolinewidth\":2},\"yaxis\":{\"gridcolor\":\"white\",\"linecolor\":\"white\",\"ticks\":\"\",\"title\":{\"standoff\":15},\"zerolinecolor\":\"white\",\"automargin\":true,\"zerolinewidth\":2},\"scene\":{\"xaxis\":{\"backgroundcolor\":\"#E5ECF6\",\"gridcolor\":\"white\",\"linecolor\":\"white\",\"showbackground\":true,\"ticks\":\"\",\"zerolinecolor\":\"white\",\"gridwidth\":2},\"yaxis\":{\"backgroundcolor\":\"#E5ECF6\",\"gridcolor\":\"white\",\"linecolor\":\"white\",\"showbackground\":true,\"ticks\":\"\",\"zerolinecolor\":\"white\",\"gridwidth\":2},\"zaxis\":{\"backgroundcolor\":\"#E5ECF6\",\"gridcolor\":\"white\",\"linecolor\":\"white\",\"showbackground\":true,\"ticks\":\"\",\"zerolinecolor\":\"white\",\"gridwidth\":2}},\"shapedefaults\":{\"line\":{\"color\":\"#2a3f5f\"}},\"annotationdefaults\":{\"arrowcolor\":\"#2a3f5f\",\"arrowhead\":0,\"arrowwidth\":1},\"geo\":{\"bgcolor\":\"white\",\"landcolor\":\"#E5ECF6\",\"subunitcolor\":\"white\",\"showland\":true,\"showlakes\":true,\"lakecolor\":\"white\"},\"title\":{\"x\":0.05},\"mapbox\":{\"style\":\"light\"}}},\"scene\":{\"domain\":{\"x\":[0.0,1.0],\"y\":[0.0,1.0]},\"xaxis\":{\"title\":{\"text\":\"x\"}},\"yaxis\":{\"title\":{\"text\":\"y\"}},\"zaxis\":{\"title\":{\"text\":\"z\"}}},\"coloraxis\":{\"colorbar\":{\"title\":{\"text\":\"label\"}},\"colorscale\":[[0.0,\"#0d0887\"],[0.1111111111111111,\"#46039f\"],[0.2222222222222222,\"#7201a8\"],[0.3333333333333333,\"#9c179e\"],[0.4444444444444444,\"#bd3786\"],[0.5555555555555556,\"#d8576b\"],[0.6666666666666666,\"#ed7953\"],[0.7777777777777778,\"#fb9f3a\"],[0.8888888888888888,\"#fdca26\"],[1.0,\"#f0f921\"]]},\"legend\":{\"tracegroupgap\":0},\"margin\":{\"t\":60}},                        {\"responsive\": true}                    ).then(function(){\n",
              "                            \n",
              "var gd = document.getElementById('c9542225-c1f9-4a61-b9e9-9837e6814b7a');\n",
              "var x = new MutationObserver(function (mutations, observer) {{\n",
              "        var display = window.getComputedStyle(gd).display;\n",
              "        if (!display || display === 'none') {{\n",
              "            console.log([gd, 'removed!']);\n",
              "            Plotly.purge(gd);\n",
              "            observer.disconnect();\n",
              "        }}\n",
              "}});\n",
              "\n",
              "// Listen for the removal of the full notebook cells\n",
              "var notebookContainer = gd.closest('#notebook-container');\n",
              "if (notebookContainer) {{\n",
              "    x.observe(notebookContainer, {childList: true});\n",
              "}}\n",
              "\n",
              "// Listen for the clearing of the current output cell\n",
              "var outputEl = gd.closest('.output');\n",
              "if (outputEl) {{\n",
              "    x.observe(outputEl, {childList: true});\n",
              "}}\n",
              "\n",
              "                        })                };                            </script>        </div>\n",
              "</body>\n",
              "</html>"
            ]
          },
          "metadata": {}
        }
      ],
      "source": [
        "import plotly.express as px\n",
        "\n",
        "class KMeansClustering:\n",
        "    def __init__(self, n_clusters):\n",
        "        self.n_clusters = n_clusters\n",
        "        self.kmeans = KMeans(n_clusters=n_clusters)\n",
        "\n",
        "    def fit(self, x):\n",
        "        self.kmeans.fit(x)\n",
        "\n",
        "    def predict(self, x):\n",
        "        return self.kmeans.predict(x)\n",
        "\n",
        "    def plot_clusters(self, x):\n",
        "        labels = self.predict(x)\n",
        "        df = pd.DataFrame({'x': x[:, 0], 'y': x[:, 1], 'z': x[:, 2], 'label': labels})\n",
        "        fig = px.scatter_3d(df, x='x', y='y', z='z', color='label')\n",
        "        fig.show()\n",
        "\n",
        "kmeans_clustering = KMeansClustering(n_clusters=4)\n",
        "kmeans_clustering.fit(x)\n",
        "kmeans_clustering.plot_clusters(x)\n"
      ]
    },
    {
      "cell_type": "markdown",
      "metadata": {
        "id": "8J5FN-HIOOqJ"
      },
      "source": [
        "Measure the quality of the clustering using \"silhoutte score\" **(P4-2: 5 points)**\n",
        "\n",
        "Note: You can use `sklearn` or other packages to calculate the score."
      ]
    },
    {
      "cell_type": "code",
      "execution_count": 210,
      "metadata": {
        "id": "1zdNLJ_9OYxO",
        "colab": {
          "base_uri": "https://localhost:8080/"
        },
        "outputId": "b201ca51-ab82-4bcf-dc10-a3bf5bf75714"
      },
      "outputs": [
        {
          "output_type": "stream",
          "name": "stdout",
          "text": [
            "Silhouette Score: 0.10638006689429788\n"
          ]
        }
      ],
      "source": [
        "from sklearn.metrics import silhouette_score\n",
        "\n",
        "labels = kmeans_clustering.predict(x)\n",
        "\n",
        "silhouette_avg = silhouette_score(x, labels)\n",
        "print(\"Silhouette Score:\", silhouette_avg)\n"
      ]
    },
    {
      "cell_type": "markdown",
      "metadata": {
        "id": "znohK44UQ5s7"
      },
      "source": [
        "Compare the result of the clustering with the original labels. To be more precise, in this part, you should clearly answer the following questions with details:<br>\n",
        "\n",
        "- Does each cluster represent a true label?\n",
        "- What is your conclusion?\n",
        "\n",
        "**(P4-3: 10 points)**"
      ]
    },
    {
      "cell_type": "code",
      "execution_count": 210,
      "metadata": {
        "id": "DDfOcVckRboQ"
      },
      "outputs": [],
      "source": []
    },
    {
      "cell_type": "markdown",
      "metadata": {
        "id": "l2rNsjun2MYm"
      },
      "source": [
        "# Sec 5: Neural Net (Optional with Bonus Points)"
      ]
    },
    {
      "cell_type": "markdown",
      "metadata": {
        "id": "kHrNE4gp2-AW"
      },
      "source": [
        "Reshape the images so that they become of shape `64x64` **(P5-1: 5 points)**"
      ]
    },
    {
      "cell_type": "code",
      "execution_count": 211,
      "metadata": {
        "id": "OaCDrh9g3Sbd"
      },
      "outputs": [],
      "source": [
        "resized_images = []\n",
        "for file in metadata[\"path\"]:\n",
        "    image_path = f\"images/content/img-data/{file}\"\n",
        "    image = Image.open(image_path)\n",
        "    resized_image = image.resize((64, 64))\n",
        "    resized_image = np.array(resized_image)\n",
        "    resized_images.append(resized_image)\n",
        "\n",
        "resized_images = np.array(resized_images)"
      ]
    },
    {
      "cell_type": "code",
      "source": [
        "resized_images.shape"
      ],
      "metadata": {
        "colab": {
          "base_uri": "https://localhost:8080/"
        },
        "id": "NiIeETGTRq4B",
        "outputId": "96a28644-744a-46a7-fec5-42852232f001"
      },
      "execution_count": 212,
      "outputs": [
        {
          "output_type": "execute_result",
          "data": {
            "text/plain": [
              "(400, 64, 64)"
            ]
          },
          "metadata": {},
          "execution_count": 212
        }
      ]
    },
    {
      "cell_type": "markdown",
      "metadata": {
        "id": "PC0kN0MPOcak"
      },
      "source": [
        "Use different types of augmentation techniques (such as Random Flipping, Random Rotation, etc.) to increase the size of the training dataset. **(P5-2: 10 points)**"
      ]
    },
    {
      "cell_type": "code",
      "execution_count": 213,
      "metadata": {
        "id": "QbUC-Y5mP4Xd"
      },
      "outputs": [],
      "source": [
        "from tensorflow.keras.preprocessing.image import ImageDataGenerator\n",
        "\n",
        "datagen = ImageDataGenerator(\n",
        "    rotation_range=20,\n",
        "    width_shift_range=0.2,\n",
        "    height_shift_range=0.2,\n",
        "    horizontal_flip=True,\n",
        "    vertical_flip=True\n",
        ")\n",
        "\n",
        "x_train_augmented = X_train.reshape(X_train.shape[0], 64, 64, -1)\n",
        "datagen.fit(x_train_augmented)\n",
        "\n",
        "augmented_images = datagen.flow(x_train_augmented, y_train, batch_size=X_train.shape[0], shuffle=True)\n",
        "\n",
        "x_train_augmented = augmented_images[0][0]\n",
        "y_train_augmented = augmented_images[0][1]\n",
        "\n",
        "x_train_augmented = x_train_augmented.reshape(x_train_augmented.shape[0], -1)"
      ]
    },
    {
      "cell_type": "code",
      "source": [
        "x_train_augmented"
      ],
      "metadata": {
        "colab": {
          "base_uri": "https://localhost:8080/"
        },
        "id": "DhDAkCCIU3W2",
        "outputId": "54a3a4a5-14cf-4475-9584-d44746a48d17"
      },
      "execution_count": 214,
      "outputs": [
        {
          "output_type": "execute_result",
          "data": {
            "text/plain": [
              "array([[0.39614412, 0.39616206, 0.39617997, ..., 0.7915378 , 0.7689369 ,\n",
              "        0.7797736 ],\n",
              "       [0.3673009 , 0.37227273, 0.3772446 , ..., 0.17625885, 0.15723988,\n",
              "        0.20392157],\n",
              "       [0.2285567 , 0.22731319, 0.2260697 , ..., 0.19094667, 0.18845968,\n",
              "        0.18710399],\n",
              "       ...,\n",
              "       [0.5722863 , 0.51850355, 0.46333903, ..., 0.8381066 , 0.8689399 ,\n",
              "        0.76807314],\n",
              "       [0.5295317 , 0.5555153 , 0.5241736 , ..., 0.14108036, 0.13998573,\n",
              "        0.13889109],\n",
              "       [0.76488316, 0.777109  , 0.7909764 , ..., 0.38843408, 0.37098774,\n",
              "        0.362267  ]], dtype=float32)"
            ]
          },
          "metadata": {},
          "execution_count": 214
        }
      ]
    },
    {
      "cell_type": "markdown",
      "metadata": {
        "id": "uXVXHAIgOp_F"
      },
      "source": [
        "Using the augmented training set, train a neural network consisting of 2D convolutional layers. The exact architecture of the network is arbitrary. However, the last layer should have the \"softmax\" function as its activation. Also, using \"max pooling\" layers after convolutional ones is advised.\n",
        "\n",
        "Note: Don't get frustrated if your network does not appear to be a good one. Give it some time to be trained. For instance, you might need to train it for 100 epochs. Make sure to try that out before quitting!\n",
        "\n",
        "**(P5-3: 20 points)**"
      ]
    },
    {
      "cell_type": "code",
      "execution_count": 215,
      "metadata": {
        "id": "WgODL6JyPdY4",
        "colab": {
          "base_uri": "https://localhost:8080/",
          "height": 1000
        },
        "outputId": "bff99219-b5e7-4be3-f254-e29a802d054b"
      },
      "outputs": [
        {
          "output_type": "stream",
          "name": "stdout",
          "text": [
            "Epoch 1/100\n"
          ]
        },
        {
          "output_type": "error",
          "ename": "InvalidArgumentError",
          "evalue": "ignored",
          "traceback": [
            "\u001b[0;31m---------------------------------------------------------------------------\u001b[0m",
            "\u001b[0;31mInvalidArgumentError\u001b[0m                      Traceback (most recent call last)",
            "\u001b[0;32m<ipython-input-215-c7ed8d7b6461>\u001b[0m in \u001b[0;36m<cell line: 25>\u001b[0;34m()\u001b[0m\n\u001b[1;32m     23\u001b[0m \u001b[0;34m\u001b[0m\u001b[0m\n\u001b[1;32m     24\u001b[0m \u001b[0;31m# Train the model\u001b[0m\u001b[0;34m\u001b[0m\u001b[0;34m\u001b[0m\u001b[0m\n\u001b[0;32m---> 25\u001b[0;31m \u001b[0mmodel\u001b[0m\u001b[0;34m.\u001b[0m\u001b[0mfit\u001b[0m\u001b[0;34m(\u001b[0m\u001b[0mx_train_augmented\u001b[0m\u001b[0;34m,\u001b[0m \u001b[0my_train_augmented\u001b[0m\u001b[0;34m,\u001b[0m \u001b[0mepochs\u001b[0m\u001b[0;34m=\u001b[0m\u001b[0;36m100\u001b[0m\u001b[0;34m,\u001b[0m \u001b[0mbatch_size\u001b[0m\u001b[0;34m=\u001b[0m\u001b[0;36m32\u001b[0m\u001b[0;34m,\u001b[0m \u001b[0mvalidation_data\u001b[0m\u001b[0;34m=\u001b[0m\u001b[0;34m(\u001b[0m\u001b[0mX_val\u001b[0m\u001b[0;34m,\u001b[0m \u001b[0my_val\u001b[0m\u001b[0;34m)\u001b[0m\u001b[0;34m)\u001b[0m\u001b[0;34m\u001b[0m\u001b[0;34m\u001b[0m\u001b[0m\n\u001b[0m\u001b[1;32m     26\u001b[0m \u001b[0;34m\u001b[0m\u001b[0m\n\u001b[1;32m     27\u001b[0m \u001b[0;31m# Evaluate the model on the test set\u001b[0m\u001b[0;34m\u001b[0m\u001b[0;34m\u001b[0m\u001b[0m\n",
            "\u001b[0;32m/usr/local/lib/python3.10/dist-packages/keras/utils/traceback_utils.py\u001b[0m in \u001b[0;36merror_handler\u001b[0;34m(*args, **kwargs)\u001b[0m\n\u001b[1;32m     68\u001b[0m             \u001b[0;31m# To get the full stack trace, call:\u001b[0m\u001b[0;34m\u001b[0m\u001b[0;34m\u001b[0m\u001b[0m\n\u001b[1;32m     69\u001b[0m             \u001b[0;31m# `tf.debugging.disable_traceback_filtering()`\u001b[0m\u001b[0;34m\u001b[0m\u001b[0;34m\u001b[0m\u001b[0m\n\u001b[0;32m---> 70\u001b[0;31m             \u001b[0;32mraise\u001b[0m \u001b[0me\u001b[0m\u001b[0;34m.\u001b[0m\u001b[0mwith_traceback\u001b[0m\u001b[0;34m(\u001b[0m\u001b[0mfiltered_tb\u001b[0m\u001b[0;34m)\u001b[0m \u001b[0;32mfrom\u001b[0m \u001b[0;32mNone\u001b[0m\u001b[0;34m\u001b[0m\u001b[0;34m\u001b[0m\u001b[0m\n\u001b[0m\u001b[1;32m     71\u001b[0m         \u001b[0;32mfinally\u001b[0m\u001b[0;34m:\u001b[0m\u001b[0;34m\u001b[0m\u001b[0;34m\u001b[0m\u001b[0m\n\u001b[1;32m     72\u001b[0m             \u001b[0;32mdel\u001b[0m \u001b[0mfiltered_tb\u001b[0m\u001b[0;34m\u001b[0m\u001b[0;34m\u001b[0m\u001b[0m\n",
            "\u001b[0;32m/usr/local/lib/python3.10/dist-packages/tensorflow/python/eager/execute.py\u001b[0m in \u001b[0;36mquick_execute\u001b[0;34m(op_name, num_outputs, inputs, attrs, ctx, name)\u001b[0m\n\u001b[1;32m     50\u001b[0m   \u001b[0;32mtry\u001b[0m\u001b[0;34m:\u001b[0m\u001b[0;34m\u001b[0m\u001b[0;34m\u001b[0m\u001b[0m\n\u001b[1;32m     51\u001b[0m     \u001b[0mctx\u001b[0m\u001b[0;34m.\u001b[0m\u001b[0mensure_initialized\u001b[0m\u001b[0;34m(\u001b[0m\u001b[0;34m)\u001b[0m\u001b[0;34m\u001b[0m\u001b[0;34m\u001b[0m\u001b[0m\n\u001b[0;32m---> 52\u001b[0;31m     tensors = pywrap_tfe.TFE_Py_Execute(ctx._handle, device_name, op_name,\n\u001b[0m\u001b[1;32m     53\u001b[0m                                         inputs, attrs, num_outputs)\n\u001b[1;32m     54\u001b[0m   \u001b[0;32mexcept\u001b[0m \u001b[0mcore\u001b[0m\u001b[0;34m.\u001b[0m\u001b[0m_NotOkStatusException\u001b[0m \u001b[0;32mas\u001b[0m \u001b[0me\u001b[0m\u001b[0;34m:\u001b[0m\u001b[0;34m\u001b[0m\u001b[0;34m\u001b[0m\u001b[0m\n",
            "\u001b[0;31mInvalidArgumentError\u001b[0m: Graph execution error:\n\nDetected at node 'sparse_categorical_crossentropy/SparseSoftmaxCrossEntropyWithLogits/SparseSoftmaxCrossEntropyWithLogits' defined at (most recent call last):\n    File \"/usr/lib/python3.10/runpy.py\", line 196, in _run_module_as_main\n      return _run_code(code, main_globals, None,\n    File \"/usr/lib/python3.10/runpy.py\", line 86, in _run_code\n      exec(code, run_globals)\n    File \"/usr/local/lib/python3.10/dist-packages/ipykernel_launcher.py\", line 16, in <module>\n      app.launch_new_instance()\n    File \"/usr/local/lib/python3.10/dist-packages/traitlets/config/application.py\", line 992, in launch_instance\n      app.start()\n    File \"/usr/local/lib/python3.10/dist-packages/ipykernel/kernelapp.py\", line 619, in start\n      self.io_loop.start()\n    File \"/usr/local/lib/python3.10/dist-packages/tornado/platform/asyncio.py\", line 195, in start\n      self.asyncio_loop.run_forever()\n    File \"/usr/lib/python3.10/asyncio/base_events.py\", line 603, in run_forever\n      self._run_once()\n    File \"/usr/lib/python3.10/asyncio/base_events.py\", line 1909, in _run_once\n      handle._run()\n    File \"/usr/lib/python3.10/asyncio/events.py\", line 80, in _run\n      self._context.run(self._callback, *self._args)\n    File \"/usr/local/lib/python3.10/dist-packages/tornado/ioloop.py\", line 685, in <lambda>\n      lambda f: self._run_callback(functools.partial(callback, future))\n    File \"/usr/local/lib/python3.10/dist-packages/tornado/ioloop.py\", line 738, in _run_callback\n      ret = callback()\n    File \"/usr/local/lib/python3.10/dist-packages/tornado/gen.py\", line 825, in inner\n      self.ctx_run(self.run)\n    File \"/usr/local/lib/python3.10/dist-packages/tornado/gen.py\", line 786, in run\n      yielded = self.gen.send(value)\n    File \"/usr/local/lib/python3.10/dist-packages/ipykernel/kernelbase.py\", line 377, in dispatch_queue\n      yield self.process_one()\n    File \"/usr/local/lib/python3.10/dist-packages/tornado/gen.py\", line 250, in wrapper\n      runner = Runner(ctx_run, result, future, yielded)\n    File \"/usr/local/lib/python3.10/dist-packages/tornado/gen.py\", line 748, in __init__\n      self.ctx_run(self.run)\n    File \"/usr/local/lib/python3.10/dist-packages/tornado/gen.py\", line 786, in run\n      yielded = self.gen.send(value)\n    File \"/usr/local/lib/python3.10/dist-packages/ipykernel/kernelbase.py\", line 361, in process_one\n      yield gen.maybe_future(dispatch(*args))\n    File \"/usr/local/lib/python3.10/dist-packages/tornado/gen.py\", line 234, in wrapper\n      yielded = ctx_run(next, result)\n    File \"/usr/local/lib/python3.10/dist-packages/ipykernel/kernelbase.py\", line 261, in dispatch_shell\n      yield gen.maybe_future(handler(stream, idents, msg))\n    File \"/usr/local/lib/python3.10/dist-packages/tornado/gen.py\", line 234, in wrapper\n      yielded = ctx_run(next, result)\n    File \"/usr/local/lib/python3.10/dist-packages/ipykernel/kernelbase.py\", line 539, in execute_request\n      self.do_execute(\n    File \"/usr/local/lib/python3.10/dist-packages/tornado/gen.py\", line 234, in wrapper\n      yielded = ctx_run(next, result)\n    File \"/usr/local/lib/python3.10/dist-packages/ipykernel/ipkernel.py\", line 302, in do_execute\n      res = shell.run_cell(code, store_history=store_history, silent=silent)\n    File \"/usr/local/lib/python3.10/dist-packages/ipykernel/zmqshell.py\", line 539, in run_cell\n      return super(ZMQInteractiveShell, self).run_cell(*args, **kwargs)\n    File \"/usr/local/lib/python3.10/dist-packages/IPython/core/interactiveshell.py\", line 2975, in run_cell\n      result = self._run_cell(\n    File \"/usr/local/lib/python3.10/dist-packages/IPython/core/interactiveshell.py\", line 3030, in _run_cell\n      return runner(coro)\n    File \"/usr/local/lib/python3.10/dist-packages/IPython/core/async_helpers.py\", line 78, in _pseudo_sync_runner\n      coro.send(None)\n    File \"/usr/local/lib/python3.10/dist-packages/IPython/core/interactiveshell.py\", line 3257, in run_cell_async\n      has_raised = await self.run_ast_nodes(code_ast.body, cell_name,\n    File \"/usr/local/lib/python3.10/dist-packages/IPython/core/interactiveshell.py\", line 3473, in run_ast_nodes\n      if (await self.run_code(code, result,  async_=asy)):\n    File \"/usr/local/lib/python3.10/dist-packages/IPython/core/interactiveshell.py\", line 3553, in run_code\n      exec(code_obj, self.user_global_ns, self.user_ns)\n    File \"<ipython-input-215-c7ed8d7b6461>\", line 25, in <cell line: 25>\n      model.fit(x_train_augmented, y_train_augmented, epochs=100, batch_size=32, validation_data=(X_val, y_val))\n    File \"/usr/local/lib/python3.10/dist-packages/keras/utils/traceback_utils.py\", line 65, in error_handler\n      return fn(*args, **kwargs)\n    File \"/usr/local/lib/python3.10/dist-packages/keras/engine/training.py\", line 1685, in fit\n      tmp_logs = self.train_function(iterator)\n    File \"/usr/local/lib/python3.10/dist-packages/keras/engine/training.py\", line 1284, in train_function\n      return step_function(self, iterator)\n    File \"/usr/local/lib/python3.10/dist-packages/keras/engine/training.py\", line 1268, in step_function\n      outputs = model.distribute_strategy.run(run_step, args=(data,))\n    File \"/usr/local/lib/python3.10/dist-packages/keras/engine/training.py\", line 1249, in run_step\n      outputs = model.train_step(data)\n    File \"/usr/local/lib/python3.10/dist-packages/keras/engine/training.py\", line 1051, in train_step\n      loss = self.compute_loss(x, y, y_pred, sample_weight)\n    File \"/usr/local/lib/python3.10/dist-packages/keras/engine/training.py\", line 1109, in compute_loss\n      return self.compiled_loss(\n    File \"/usr/local/lib/python3.10/dist-packages/keras/engine/compile_utils.py\", line 265, in __call__\n      loss_value = loss_obj(y_t, y_p, sample_weight=sw)\n    File \"/usr/local/lib/python3.10/dist-packages/keras/losses.py\", line 142, in __call__\n      losses = call_fn(y_true, y_pred)\n    File \"/usr/local/lib/python3.10/dist-packages/keras/losses.py\", line 268, in call\n      return ag_fn(y_true, y_pred, **self._fn_kwargs)\n    File \"/usr/local/lib/python3.10/dist-packages/keras/losses.py\", line 2078, in sparse_categorical_crossentropy\n      return backend.sparse_categorical_crossentropy(\n    File \"/usr/local/lib/python3.10/dist-packages/keras/backend.py\", line 5660, in sparse_categorical_crossentropy\n      res = tf.nn.sparse_softmax_cross_entropy_with_logits(\nNode: 'sparse_categorical_crossentropy/SparseSoftmaxCrossEntropyWithLogits/SparseSoftmaxCrossEntropyWithLogits'\nReceived a label value of 36 which is outside the valid range of [0, 3).  Label values: 1 11 14 4 5 15 19 35 26 23 7 27 22 9 13 5 30 11 34 24 9 22 36 11 25 5 13 28 17 8 25 13\n\t [[{{node sparse_categorical_crossentropy/SparseSoftmaxCrossEntropyWithLogits/SparseSoftmaxCrossEntropyWithLogits}}]] [Op:__inference_train_function_6272]"
          ]
        }
      ],
      "source": [
        "from tensorflow.keras.models import Sequential\n",
        "from tensorflow.keras.layers import Conv2D, MaxPooling2D, Flatten, Dense\n",
        "\n",
        "model = Sequential()\n",
        "model.add(Conv2D(32, (3, 3), activation='relu', input_shape=(64, 64, 1)))\n",
        "model.add(MaxPooling2D((2, 2)))\n",
        "model.add(Conv2D(64, (3, 3), activation='relu'))\n",
        "model.add(MaxPooling2D((2, 2)))\n",
        "model.add(Conv2D(128, (3, 3), activation='relu'))\n",
        "model.add(MaxPooling2D((2, 2)))\n",
        "model.add(Flatten())\n",
        "model.add(Dense(128, activation='relu'))\n",
        "model.add(Dense(3, activation='softmax'))\n",
        "\n",
        "model.compile(optimizer='adam',\n",
        "              loss='sparse_categorical_crossentropy',\n",
        "              metrics=['accuracy'])\n",
        "\n",
        "x_train_augmented = x_train_augmented.reshape(x_train_augmented.shape[0], 64, 64, 1)\n",
        "\n",
        "model.fit(x_train_augmented, y_train_augmented, epochs=100, batch_size=32, validation_data=(X_val, y_val))\n",
        "\n",
        "x_test_normalized = X_test.reshape(X_test.shape[0], 64, 64, 1)\n",
        "test_loss, test_accuracy = model.evaluate(x_test_normalized, y_test)\n",
        "print(\"Test Loss:\", test_loss)\n",
        "print(\"Test Accuracy:\", test_accuracy)\n"
      ]
    },
    {
      "cell_type": "markdown",
      "metadata": {
        "id": "PgZFoeHPPdqF"
      },
      "source": [
        "Measure the accuracy of the network on the validation and testing datasets **(P5-4: 5 points)**"
      ]
    },
    {
      "cell_type": "code",
      "execution_count": null,
      "metadata": {
        "id": "7VSZe8RdPkLU"
      },
      "outputs": [],
      "source": []
    }
  ],
  "metadata": {
    "colab": {
      "provenance": [],
      "toc_visible": true
    },
    "kernelspec": {
      "display_name": "Python 3",
      "name": "python3"
    },
    "language_info": {
      "name": "python"
    }
  },
  "nbformat": 4,
  "nbformat_minor": 0
}